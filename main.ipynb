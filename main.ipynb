{
 "cells": [
  {
   "cell_type": "markdown",
   "metadata": {},
   "source": [
    "# GitOps Flow with MLRun"
   ]
  },
  {
   "cell_type": "markdown",
   "metadata": {
    "jp-MarkdownHeadingCollapsed": true,
    "tags": []
   },
   "source": [
    "## 1. Development and Deployment Flow "
   ]
  },
  {
   "cell_type": "markdown",
   "metadata": {},
   "source": [
    "![](docs/mlrun_function.png)"
   ]
  },
  {
   "cell_type": "markdown",
   "metadata": {},
   "source": [
    "![](docs/mlrun_project.png)"
   ]
  },
  {
   "cell_type": "markdown",
   "metadata": {
    "jp-MarkdownHeadingCollapsed": true,
    "tags": []
   },
   "source": [
    "## 2. Basic Training and Serving"
   ]
  },
  {
   "cell_type": "code",
   "execution_count": 23,
   "metadata": {},
   "outputs": [
    {
     "name": "stdout",
     "output_type": "stream",
     "text": [
      "> 2023-09-15 21:54:26,748 [info] Server and client versions are not the same but compatible: {'parsed_server_version': VersionInfo(major=1, minor=4, patch=1, prerelease=None, build=None), 'parsed_client_version': VersionInfo(major=1, minor=3, patch=0, prerelease=None, build=None)}\n",
      "> 2023-09-15 21:54:26,787 [info] loaded project gitops-flow-v2 from MLRun DB\n"
     ]
    }
   ],
   "source": [
    "import os\n",
    "from src import create_and_set_project\n",
    "\n",
    "project = create_and_set_project(\n",
    "    name=\"gitops-flow-v2\",\n",
    "    env_file=\"config.env\",\n",
    "    git_source=\"v3io:///bigdata/gitops.zip\"\n",
    ")"
   ]
  },
  {
   "cell_type": "markdown",
   "metadata": {
    "jp-MarkdownHeadingCollapsed": true,
    "tags": []
   },
   "source": [
    "### Train Model with Auto-Logging"
   ]
  },
  {
   "cell_type": "code",
   "execution_count": 2,
   "metadata": {},
   "outputs": [
    {
     "name": "stdout",
     "output_type": "stream",
     "text": [
      "Overwriting ./src/functions/basic_train.py\n"
     ]
    }
   ],
   "source": [
    "%%writefile ./src/functions/basic_train.py\n",
    "\n",
    "import mlrun\n",
    "import pandas as pd\n",
    "from mlrun.frameworks.sklearn import apply_mlrun\n",
    "from sklearn import ensemble\n",
    "from sklearn.model_selection import train_test_split\n",
    "\n",
    "\n",
    "@mlrun.handler()\n",
    "def train_model(context, dataset: pd.DataFrame, label_column: str):\n",
    "    # Initialize our dataframes\n",
    "    X = dataset.drop(label_column, axis=1)\n",
    "    y = dataset[label_column]\n",
    "\n",
    "    # Train/Test split Iris data-set\n",
    "    X_train, X_test, y_train, y_test = train_test_split(\n",
    "        X, y, test_size=0.2, random_state=42\n",
    "    )\n",
    "\n",
    "    # Pick an ideal ML model\n",
    "    model = ensemble.RandomForestClassifier()\n",
    "\n",
    "    # Wrap our model with Mlrun features, specify the test dataset for analysis and accuracy measurements\n",
    "    #######################################################################\n",
    "    apply_mlrun(model, model_name=\"my_model\", x_test=X_test, y_test=y_test)\n",
    "    #######################################################################\n",
    "\n",
    "    # Train our model\n",
    "    model.fit(X_train, y_train)\n"
   ]
  },
  {
   "cell_type": "code",
   "execution_count": 3,
   "metadata": {},
   "outputs": [],
   "source": [
    "train_fn = project.set_function(\n",
    "    name='basic-train',\n",
    "    func='src/functions/basic_train.py',\n",
    "    kind='job',\n",
    "    image='mlrun/mlrun',\n",
    "    handler=\"train_model\"\n",
    ")"
   ]
  },
  {
   "cell_type": "code",
   "execution_count": 4,
   "metadata": {},
   "outputs": [
    {
     "name": "stdout",
     "output_type": "stream",
     "text": [
      "> 2023-09-15 21:48:38,525 [info] Storing function: {'name': 'basic-train-train-model', 'uid': '37e47e10d3044ef89341294aab031619', 'db': 'http://mlrun-api:8080'}\n",
      "> 2023-09-15 21:48:38,817 [info] Job is running in the background, pod: basic-train-train-model-rrd89\n",
      "> 2023-09-15 21:48:42,646 [info] Server and client versions are not the same but compatible: {'parsed_server_version': VersionInfo(major=1, minor=4, patch=1, prerelease=None, build=None), 'parsed_client_version': VersionInfo(major=1, minor=3, patch=0, prerelease=None, build=None)}\n",
      "> 2023-09-15 21:48:45,548 [info] To track results use the CLI: {'info_cmd': 'mlrun get run 37e47e10d3044ef89341294aab031619 -p gitops-flow-v2', 'logs_cmd': 'mlrun logs 37e47e10d3044ef89341294aab031619 -p gitops-flow-v2'}\n",
      "> 2023-09-15 21:48:45,548 [info] Or click for UI: {'ui_url': 'https://dashboard.default-tenant.app.us-tmp-353.iguazio-cd2.com/mlprojects/gitops-flow-v2/jobs/monitor/37e47e10d3044ef89341294aab031619/overview'}\n",
      "> 2023-09-15 21:48:45,549 [info] run executed, status=completed: {'name': 'basic-train-train-model'}\n",
      "final state: completed\n"
     ]
    },
    {
     "data": {
      "text/html": [
       "<style>\n",
       ".dictlist {\n",
       "  background-color: #4EC64B;\n",
       "  text-align: center;\n",
       "  margin: 4px;\n",
       "  border-radius: 3px; padding: 0px 3px 1px 3px; display: inline-block;}\n",
       ".artifact {\n",
       "  cursor: pointer;\n",
       "  background-color: #4EC64B;\n",
       "  text-align: left;\n",
       "  margin: 4px; border-radius: 3px; padding: 0px 3px 1px 3px; display: inline-block;\n",
       "}\n",
       "div.block.hidden {\n",
       "  display: none;\n",
       "}\n",
       ".clickable {\n",
       "  cursor: pointer;\n",
       "}\n",
       ".ellipsis {\n",
       "  display: inline-block;\n",
       "  max-width: 60px;\n",
       "  white-space: nowrap;\n",
       "  overflow: hidden;\n",
       "  text-overflow: ellipsis;\n",
       "}\n",
       ".master-wrapper {\n",
       "  display: flex;\n",
       "  flex-flow: row nowrap;\n",
       "  justify-content: flex-start;\n",
       "  align-items: stretch;\n",
       "}\n",
       ".master-tbl {\n",
       "  flex: 3\n",
       "}\n",
       ".master-wrapper > div {\n",
       "  margin: 4px;\n",
       "  padding: 10px;\n",
       "}\n",
       "iframe.fileview {\n",
       "  border: 0 none;\n",
       "  height: 100%;\n",
       "  width: 100%;\n",
       "  white-space: pre-wrap;\n",
       "}\n",
       ".pane-header-title {\n",
       "  width: 80%;\n",
       "  font-weight: 500;\n",
       "}\n",
       ".pane-header {\n",
       "  line-height: 1;\n",
       "  background-color: #4EC64B;\n",
       "  padding: 3px;\n",
       "}\n",
       ".pane-header .close {\n",
       "  font-size: 20px;\n",
       "  font-weight: 700;\n",
       "  float: right;\n",
       "  margin-top: -5px;\n",
       "}\n",
       ".master-wrapper .right-pane {\n",
       "  border: 1px inset silver;\n",
       "  width: 40%;\n",
       "  min-height: 300px;\n",
       "  flex: 3\n",
       "  min-width: 500px;\n",
       "}\n",
       ".master-wrapper * {\n",
       "  box-sizing: border-box;\n",
       "}\n",
       "</style><script>\n",
       "function copyToClipboard(fld) {\n",
       "    if (document.queryCommandSupported && document.queryCommandSupported('copy')) {\n",
       "        var textarea = document.createElement('textarea');\n",
       "        textarea.textContent = fld.innerHTML;\n",
       "        textarea.style.position = 'fixed';\n",
       "        document.body.appendChild(textarea);\n",
       "        textarea.select();\n",
       "\n",
       "        try {\n",
       "            return document.execCommand('copy'); // Security exception may be thrown by some browsers.\n",
       "        } catch (ex) {\n",
       "\n",
       "        } finally {\n",
       "            document.body.removeChild(textarea);\n",
       "        }\n",
       "    }\n",
       "}\n",
       "function expandPanel(el) {\n",
       "  const panelName = \"#\" + el.getAttribute('paneName');\n",
       "  console.log(el.title);\n",
       "\n",
       "  document.querySelector(panelName + \"-title\").innerHTML = el.title\n",
       "  iframe = document.querySelector(panelName + \"-body\");\n",
       "\n",
       "  const tblcss = `<style> body { font-family: Arial, Helvetica, sans-serif;}\n",
       "    #csv { margin-bottom: 15px; }\n",
       "    #csv table { border-collapse: collapse;}\n",
       "    #csv table td { padding: 4px 8px; border: 1px solid silver;} </style>`;\n",
       "\n",
       "  function csvToHtmlTable(str) {\n",
       "    return '<div id=\"csv\"><table><tr><td>' +  str.replace(/[\\n\\r]+$/g, '').replace(/[\\n\\r]+/g, '</td></tr><tr><td>')\n",
       "      .replace(/,/g, '</td><td>') + '</td></tr></table></div>';\n",
       "  }\n",
       "\n",
       "  function reqListener () {\n",
       "    if (el.title.endsWith(\".csv\")) {\n",
       "      iframe.setAttribute(\"srcdoc\", tblcss + csvToHtmlTable(this.responseText));\n",
       "    } else {\n",
       "      iframe.setAttribute(\"srcdoc\", this.responseText);\n",
       "    }\n",
       "    console.log(this.responseText);\n",
       "  }\n",
       "\n",
       "  const oReq = new XMLHttpRequest();\n",
       "  oReq.addEventListener(\"load\", reqListener);\n",
       "  oReq.open(\"GET\", el.title);\n",
       "  oReq.send();\n",
       "\n",
       "\n",
       "  //iframe.src = el.title;\n",
       "  const resultPane = document.querySelector(panelName + \"-pane\");\n",
       "  if (resultPane.classList.contains(\"hidden\")) {\n",
       "    resultPane.classList.remove(\"hidden\");\n",
       "  }\n",
       "}\n",
       "function closePanel(el) {\n",
       "  const panelName = \"#\" + el.getAttribute('paneName')\n",
       "  const resultPane = document.querySelector(panelName + \"-pane\");\n",
       "  if (!resultPane.classList.contains(\"hidden\")) {\n",
       "    resultPane.classList.add(\"hidden\");\n",
       "  }\n",
       "}\n",
       "\n",
       "</script>\n",
       "<div class=\"master-wrapper\">\n",
       "  <div class=\"block master-tbl\"><div>\n",
       "<style scoped>\n",
       "    .dataframe tbody tr th:only-of-type {\n",
       "        vertical-align: middle;\n",
       "    }\n",
       "\n",
       "    .dataframe tbody tr th {\n",
       "        vertical-align: top;\n",
       "    }\n",
       "\n",
       "    .dataframe thead th {\n",
       "        text-align: right;\n",
       "    }\n",
       "</style>\n",
       "<table border=\"1\" class=\"dataframe\">\n",
       "  <thead>\n",
       "    <tr style=\"text-align: right;\">\n",
       "      <th>project</th>\n",
       "      <th>uid</th>\n",
       "      <th>iter</th>\n",
       "      <th>start</th>\n",
       "      <th>state</th>\n",
       "      <th>name</th>\n",
       "      <th>labels</th>\n",
       "      <th>inputs</th>\n",
       "      <th>parameters</th>\n",
       "      <th>results</th>\n",
       "      <th>artifacts</th>\n",
       "    </tr>\n",
       "  </thead>\n",
       "  <tbody>\n",
       "    <tr>\n",
       "      <td>gitops-flow-v2</td>\n",
       "      <td><div title=\"37e47e10d3044ef89341294aab031619\"><a href=\"https://dashboard.default-tenant.app.us-tmp-353.iguazio-cd2.com/mlprojects/gitops-flow-v2/jobs/monitor/37e47e10d3044ef89341294aab031619/overview\" target=\"_blank\" >...ab031619</a></div></td>\n",
       "      <td>0</td>\n",
       "      <td>Sep 15 21:48:42</td>\n",
       "      <td>completed</td>\n",
       "      <td>basic-train-train-model</td>\n",
       "      <td><div class=\"dictlist\">v3io_user=nick</div><div class=\"dictlist\">kind=job</div><div class=\"dictlist\">owner=nick</div><div class=\"dictlist\">mlrun/client_version=1.3.0</div><div class=\"dictlist\">mlrun/client_python_version=3.9.16</div><div class=\"dictlist\">host=basic-train-train-model-rrd89</div></td>\n",
       "      <td><div title=\"https://s3.wasabisys.com/iguazio/data/model-monitoring/iris_dataset.csv\">dataset</div><div title=\"/User/mlrun-github-actions-demo/label\">label_column</div></td>\n",
       "      <td></td>\n",
       "      <td><div class=\"dictlist\">accuracy=1.0</div><div class=\"dictlist\">f1_score=1.0</div><div class=\"dictlist\">precision_score=1.0</div><div class=\"dictlist\">recall_score=1.0</div><div class=\"dictlist\">auc-micro=1.0</div><div class=\"dictlist\">auc-macro=1.0</div><div class=\"dictlist\">auc-weighted=1.0</div></td>\n",
       "      <td><div class=\"artifact\" onclick=\"expandPanel(this)\" paneName=\"result8e4717ad\" title=\"files/v3io/projects/gitops-flow-v2/artifacts/basic-train-train-model/0/feature-importance.html\">feature-importance</div><div title=\"v3io:///projects/gitops-flow-v2/artifacts/basic-train-train-model/0/test_set.parquet\">test_set</div><div class=\"artifact\" onclick=\"expandPanel(this)\" paneName=\"result8e4717ad\" title=\"files/v3io/projects/gitops-flow-v2/artifacts/basic-train-train-model/0/confusion-matrix.html\">confusion-matrix</div><div class=\"artifact\" onclick=\"expandPanel(this)\" paneName=\"result8e4717ad\" title=\"files/v3io/projects/gitops-flow-v2/artifacts/basic-train-train-model/0/roc-curves.html\">roc-curves</div><div title=\"v3io:///projects/gitops-flow-v2/artifacts/basic-train-train-model/0/model/\">model</div></td>\n",
       "    </tr>\n",
       "  </tbody>\n",
       "</table>\n",
       "</div></div>\n",
       "  <div id=\"result8e4717ad-pane\" class=\"right-pane block hidden\">\n",
       "    <div class=\"pane-header\">\n",
       "      <span id=\"result8e4717ad-title\" class=\"pane-header-title\">Title</span>\n",
       "      <span onclick=\"closePanel(this)\" paneName=\"result8e4717ad\" class=\"close clickable\">&times;</span>\n",
       "    </div>\n",
       "    <iframe class=\"fileview\" id=\"result8e4717ad-body\"></iframe>\n",
       "  </div>\n",
       "</div>\n"
      ],
      "text/plain": [
       "<IPython.core.display.HTML object>"
      ]
     },
     "metadata": {},
     "output_type": "display_data"
    },
    {
     "name": "stdout",
     "output_type": "stream",
     "text": [
      "\n"
     ]
    },
    {
     "data": {
      "text/html": [
       "<b> > to track results use the .show() or .logs() methods  or <a href=\"https://dashboard.default-tenant.app.us-tmp-353.iguazio-cd2.com/mlprojects/gitops-flow-v2/jobs/monitor/37e47e10d3044ef89341294aab031619/overview\" target=\"_blank\">click here</a> to open in UI</b>"
      ],
      "text/plain": [
       "<IPython.core.display.HTML object>"
      ]
     },
     "metadata": {},
     "output_type": "display_data"
    },
    {
     "name": "stdout",
     "output_type": "stream",
     "text": [
      "> 2023-09-15 21:48:48,946 [info] run executed, status=completed: {'name': 'basic-train-train-model'}\n"
     ]
    }
   ],
   "source": [
    "training_run = project.run_function(\n",
    "    train_fn,\n",
    "    inputs={\n",
    "        \"dataset\" : \"https://s3.wasabisys.com/iguazio/data/model-monitoring/iris_dataset.csv\",\n",
    "        \"label_column\" : \"label\"\n",
    "    }\n",
    ")"
   ]
  },
  {
   "cell_type": "code",
   "execution_count": 5,
   "metadata": {},
   "outputs": [
    {
     "data": {
      "text/plain": [
       "{'accuracy': 1.0,\n",
       " 'f1_score': 1.0,\n",
       " 'precision_score': 1.0,\n",
       " 'recall_score': 1.0,\n",
       " 'auc-micro': 1.0,\n",
       " 'auc-macro': 1.0,\n",
       " 'auc-weighted': 1.0,\n",
       " 'feature-importance': 'v3io:///projects/gitops-flow-v2/artifacts/basic-train-train-model/0/feature-importance.html',\n",
       " 'test_set': 'store://artifacts/gitops-flow-v2/basic-train-train-model_test_set:37e47e10d3044ef89341294aab031619',\n",
       " 'confusion-matrix': 'v3io:///projects/gitops-flow-v2/artifacts/basic-train-train-model/0/confusion-matrix.html',\n",
       " 'roc-curves': 'v3io:///projects/gitops-flow-v2/artifacts/basic-train-train-model/0/roc-curves.html',\n",
       " 'model': 'store://artifacts/gitops-flow-v2/my_model:37e47e10d3044ef89341294aab031619'}"
      ]
     },
     "execution_count": 5,
     "metadata": {},
     "output_type": "execute_result"
    }
   ],
   "source": [
    "training_run.outputs"
   ]
  },
  {
   "cell_type": "markdown",
   "metadata": {
    "jp-MarkdownHeadingCollapsed": true,
    "tags": []
   },
   "source": [
    "### Deploy Model with Explainability"
   ]
  },
  {
   "cell_type": "code",
   "execution_count": 6,
   "metadata": {},
   "outputs": [
    {
     "name": "stdout",
     "output_type": "stream",
     "text": [
      "Overwriting src/functions/shap_serve.py\n"
     ]
    }
   ],
   "source": [
    "%%writefile src/functions/shap_serve.py\n",
    "\n",
    "import mlrun\n",
    "\n",
    "from cloudpickle import load\n",
    "from typing import List\n",
    "import numpy as np\n",
    "import shap\n",
    "\n",
    "class ClassifierModelSHAP(mlrun.serving.V2ModelServer):\n",
    "    def load(self):\n",
    "        \"\"\"load and initialize the model and/or other elements\"\"\"\n",
    "        model_file, extra_data = self.get_model(\".pkl\")\n",
    "        self.model = load(open(model_file, \"rb\"))\n",
    "        self.explainer = shap.TreeExplainer(self.model)\n",
    "\n",
    "    def predict(self, body: dict) -> List:\n",
    "        \"\"\"Generate model predictions from sample.\"\"\"\n",
    "        feats = np.asarray(body[\"inputs\"])\n",
    "        result: np.ndarray = self.model.predict(feats)\n",
    "        return result.tolist()\n",
    "    \n",
    "    def explain(self, body: dict) -> List:\n",
    "        \"\"\"Generate model explaination from sample\"\"\"\n",
    "        feats = np.asarray(body[\"inputs\"])\n",
    "        result: np.ndarray = self.model.predict(feats)\n",
    "        shap_values = self.explainer.shap_values(feats)\n",
    "        return shap_values[result.argmax()].tolist()"
   ]
  },
  {
   "cell_type": "code",
   "execution_count": 7,
   "metadata": {},
   "outputs": [],
   "source": [
    "custom_serve = project.set_function(\n",
    "    name='custom-serve',\n",
    "    func='src/functions/shap_serve.py',\n",
    "    kind='serving',\n",
    "    image='mlrun/mlrun',\n",
    "    requirements=[\"shap==0.40.0\"]\n",
    ")"
   ]
  },
  {
   "cell_type": "code",
   "execution_count": 8,
   "metadata": {},
   "outputs": [
    {
     "data": {
      "text/plain": [
       "<mlrun.serving.states.TaskStep at 0x7f10ae185850>"
      ]
     },
     "execution_count": 8,
     "metadata": {},
     "output_type": "execute_result"
    }
   ],
   "source": [
    "custom_serve.add_model(key=\"model\", model_path=training_run.outputs[\"model\"], class_name=\"ClassifierModelSHAP\")"
   ]
  },
  {
   "cell_type": "code",
   "execution_count": 9,
   "metadata": {},
   "outputs": [],
   "source": [
    "custom_serve.with_requests(mem=\"1G\", cpu=0.1)\n",
    "custom_serve.with_limits(mem=\"2G\", cpu=0.2)"
   ]
  },
  {
   "cell_type": "code",
   "execution_count": 10,
   "metadata": {},
   "outputs": [
    {
     "name": "stdout",
     "output_type": "stream",
     "text": [
      "> 2023-09-15 21:49:00,596 [info] Starting remote function deploy\n",
      "2023-09-15 21:49:00  (info) Deploying function\n",
      "2023-09-15 21:49:00  (info) Building\n",
      "2023-09-15 21:49:01  (info) Staging files and preparing base images\n",
      "2023-09-15 21:49:01  (info) Building processor image\n",
      "2023-09-15 21:49:41  (info) Build complete\n",
      "2023-09-15 21:50:09  (info) Function deploy complete\n",
      "> 2023-09-15 21:50:11,628 [info] successfully deployed function: {'internal_invocation_urls': ['nuclio-gitops-flow-v2-custom-serve.default-tenant.svc.cluster.local:8080'], 'external_invocation_urls': ['gitops-flow-v2-custom-serve-gitops-flow-v2.default-tenant.app.us-tmp-353.iguazio-cd2.com/']}\n"
     ]
    },
    {
     "data": {
      "text/plain": [
       "DeployStatus(state=ready, outputs={'endpoint': 'http://gitops-flow-v2-custom-serve-gitops-flow-v2.default-tenant.app.us-tmp-353.iguazio-cd2.com/', 'name': 'gitops-flow-v2-custom-serve'})"
      ]
     },
     "execution_count": 10,
     "metadata": {},
     "output_type": "execute_result"
    }
   ],
   "source": [
    "project.deploy_function(custom_serve)"
   ]
  },
  {
   "cell_type": "code",
   "execution_count": 11,
   "metadata": {},
   "outputs": [
    {
     "name": "stdout",
     "output_type": "stream",
     "text": [
      "> 2023-09-15 21:50:11,707 [info] invoking function: {'method': 'POST', 'path': 'http://nuclio-gitops-flow-v2-custom-serve.default-tenant.svc.cluster.local:8080/v2/models/model/predict'}\n"
     ]
    },
    {
     "data": {
      "text/plain": [
       "{'id': 'cd3eaeea-e490-48ef-a86f-4b4bf6535c30',\n",
       " 'model_name': 'model',\n",
       " 'outputs': [0]}"
      ]
     },
     "execution_count": 11,
     "metadata": {},
     "output_type": "execute_result"
    }
   ],
   "source": [
    "custom_serve.invoke(path=\"/v2/models/model/predict\", body={\"inputs\" : [[5.4, 3.9, 1.7, 0.4]]})"
   ]
  },
  {
   "cell_type": "code",
   "execution_count": 24,
   "metadata": {},
   "outputs": [
    {
     "name": "stdout",
     "output_type": "stream",
     "text": [
      "> 2023-09-15 21:54:32,447 [info] invoking function: {'method': 'POST', 'path': 'http://nuclio-gitops-flow-v2-custom-serve.default-tenant.svc.cluster.local:8080/v2/models/model/explain'}\n"
     ]
    },
    {
     "data": {
      "text/plain": [
       "{'id': 'f9979540-7fc1-4823-a0a9-66ab80616c76',\n",
       " 'model_name': 'model',\n",
       " 'outputs': [[0.04511587945560286,\n",
       "   0.016789883032646485,\n",
       "   0.3345114940195596,\n",
       "   0.2679160768255245]]}"
      ]
     },
     "execution_count": 24,
     "metadata": {},
     "output_type": "execute_result"
    }
   ],
   "source": [
    "custom_serve.invoke(path=\"/v2/models/model/explain\", body={\"inputs\" : [[5.4, 3.9, 1.7, 0.4]]})"
   ]
  },
  {
   "cell_type": "markdown",
   "metadata": {
    "jp-MarkdownHeadingCollapsed": true,
    "tags": []
   },
   "source": [
    "## 3. Operational Pipeline"
   ]
  },
  {
   "cell_type": "markdown",
   "metadata": {
    "jp-MarkdownHeadingCollapsed": true,
    "tags": []
   },
   "source": [
    "### Feature Store Ingestion (Optional)"
   ]
  },
  {
   "cell_type": "code",
   "execution_count": 13,
   "metadata": {},
   "outputs": [],
   "source": [
    "import mlrun\n",
    "import mlrun.feature_store as fstore\n",
    "from mlrun.feature_store.steps import MapValues, OneHotEncoder\n",
    "from mlrun.datastore.sources import ParquetSource, DataFrameSource, CSVSource\n",
    "import pandas as pd\n",
    "import os\n",
    "import yaml\n",
    "import psycopg2\n",
    "from sqlalchemy.engine import create_engine\n",
    "from mlrun.datastore.targets import ParquetTarget\n",
    "\n",
    "data_path = \"data\""
   ]
  },
  {
   "cell_type": "markdown",
   "metadata": {},
   "source": [
    "#### Ingest from local parquet file"
   ]
  },
  {
   "cell_type": "code",
   "execution_count": 14,
   "metadata": {},
   "outputs": [],
   "source": [
    "heart_disease_target_set = fstore.FeatureSet(\n",
    "    name=\"heart_disease_target\",\n",
    "    entities=[fstore.Entity(\"patient_id\")]\n",
    ")\n",
    "\n",
    "resp = fstore.ingest(\n",
    "    featureset=heart_disease_target_set,\n",
    "    source=ParquetSource(path=f\"{data_path}/heart_disease_target.parquet\")\n",
    ")"
   ]
  },
  {
   "cell_type": "markdown",
   "metadata": {},
   "source": [
    "#### Ingest from External DB (PostgreSQL)"
   ]
  },
  {
   "cell_type": "code",
   "execution_count": 15,
   "metadata": {},
   "outputs": [],
   "source": [
    "engine = create_engine(os.getenv(\"POSTGRESQL_DB\"))\n",
    "postgresql_df = pd.read_sql('select * from heart_disease_continuous', engine)\n",
    "\n",
    "heart_disease_continuous_set = fstore.FeatureSet(\n",
    "    name=\"heart_disease_continuous\",\n",
    "    entities=[fstore.Entity(\"patient_id\")]\n",
    ")\n",
    "\n",
    "resp = fstore.ingest(\n",
    "    featureset=heart_disease_continuous_set,\n",
    "    source=DataFrameSource(df=postgresql_df)\n",
    ")"
   ]
  },
  {
   "cell_type": "markdown",
   "metadata": {},
   "source": [
    "#### Ingest CSV from S3 with data transformations"
   ]
  },
  {
   "cell_type": "code",
   "execution_count": 16,
   "metadata": {},
   "outputs": [
    {
     "data": {
      "image/svg+xml": [
       "<?xml version=\"1.0\" encoding=\"UTF-8\" standalone=\"no\"?>\n",
       "<!DOCTYPE svg PUBLIC \"-//W3C//DTD SVG 1.1//EN\"\n",
       " \"http://www.w3.org/Graphics/SVG/1.1/DTD/svg11.dtd\">\n",
       "<!-- Generated by graphviz version 2.43.0 (0)\n",
       " -->\n",
       "<!-- Title: mlrun&#45;flow Pages: 1 -->\n",
       "<svg width=\"444pt\" height=\"44pt\"\n",
       " viewBox=\"0.00 0.00 444.37 44.00\" xmlns=\"http://www.w3.org/2000/svg\" xmlns:xlink=\"http://www.w3.org/1999/xlink\">\n",
       "<g id=\"graph0\" class=\"graph\" transform=\"scale(1 1) rotate(0) translate(4 40)\">\n",
       "<title>mlrun&#45;flow</title>\n",
       "<polygon fill=\"white\" stroke=\"transparent\" points=\"-4,4 -4,-40 440.37,-40 440.37,4 -4,4\"/>\n",
       "<!-- _start -->\n",
       "<g id=\"node1\" class=\"node\">\n",
       "<title>_start</title>\n",
       "<polygon fill=\"lightgrey\" stroke=\"black\" points=\"38.55,-0.05 40.7,-0.15 42.83,-0.3 44.92,-0.49 46.98,-0.74 48.99,-1.03 50.95,-1.36 52.84,-1.75 54.66,-2.18 56.4,-2.65 58.06,-3.16 59.63,-3.71 61.11,-4.31 62.49,-4.94 63.76,-5.61 64.93,-6.31 65.99,-7.04 66.93,-7.8 67.77,-8.59 68.48,-9.41 69.09,-10.25 69.58,-11.11 69.95,-11.99 70.21,-12.89 70.36,-13.8 70.4,-14.72 70.33,-15.65 70.16,-16.59 69.89,-17.53 69.53,-18.47 69.07,-19.41 68.52,-20.35 67.89,-21.28 67.18,-22.2 66.4,-23.11 65.55,-24.01 64.63,-24.89 63.65,-25.75 62.62,-26.59 61.53,-27.41 60.4,-28.2 59.23,-28.96 58.02,-29.69 56.78,-30.39 55.5,-31.06 54.2,-31.69 52.88,-32.29 51.53,-32.84 50.17,-33.35 48.79,-33.82 47.4,-34.25 46,-34.64 44.59,-34.97 43.17,-35.26 41.75,-35.51 40.32,-35.7 38.89,-35.85 37.45,-35.95 36.02,-36 34.58,-36 33.15,-35.95 31.71,-35.85 30.28,-35.7 28.85,-35.51 27.43,-35.26 26.01,-34.97 24.6,-34.64 23.2,-34.25 21.81,-33.82 20.43,-33.35 19.07,-32.84 17.72,-32.29 16.4,-31.69 15.1,-31.06 13.82,-30.39 12.58,-29.69 11.37,-28.96 10.2,-28.2 9.07,-27.41 7.98,-26.59 6.95,-25.75 5.97,-24.89 5.05,-24.01 4.2,-23.11 3.42,-22.2 2.71,-21.28 2.08,-20.35 1.53,-19.41 1.07,-18.47 0.71,-17.53 0.44,-16.59 0.27,-15.65 0.2,-14.72 0.24,-13.8 0.39,-12.89 0.65,-11.99 1.02,-11.11 1.51,-10.25 2.11,-9.41 2.83,-8.59 3.66,-7.8 4.61,-7.04 5.67,-6.31 6.84,-5.61 8.11,-4.94 9.49,-4.31 10.97,-3.71 12.54,-3.16 14.2,-2.65 15.94,-2.18 17.76,-1.75 19.65,-1.36 21.61,-1.03 23.62,-0.74 25.68,-0.49 27.77,-0.3 29.9,-0.15 32.05,-0.05 34.22,0 36.38,0 38.55,-0.05\"/>\n",
       "<text text-anchor=\"middle\" x=\"35.3\" y=\"-14.3\" font-family=\"Times,serif\" font-size=\"14.00\">start</text>\n",
       "</g>\n",
       "<!-- MapValues -->\n",
       "<g id=\"node2\" class=\"node\">\n",
       "<title>MapValues</title>\n",
       "<ellipse fill=\"none\" stroke=\"black\" cx=\"168.34\" cy=\"-18\" rx=\"61.99\" ry=\"18\"/>\n",
       "<text text-anchor=\"middle\" x=\"168.34\" y=\"-14.3\" font-family=\"Times,serif\" font-size=\"14.00\">MapValues</text>\n",
       "</g>\n",
       "<!-- _start&#45;&gt;MapValues -->\n",
       "<g id=\"edge1\" class=\"edge\">\n",
       "<title>_start&#45;&gt;MapValues</title>\n",
       "<path fill=\"none\" stroke=\"black\" d=\"M70.05,-18C78.23,-18 87.29,-18 96.49,-18\"/>\n",
       "<polygon fill=\"black\" stroke=\"black\" points=\"96.5,-21.5 106.5,-18 96.5,-14.5 96.5,-21.5\"/>\n",
       "</g>\n",
       "<!-- OneHotEncoder -->\n",
       "<g id=\"node3\" class=\"node\">\n",
       "<title>OneHotEncoder</title>\n",
       "<ellipse fill=\"none\" stroke=\"black\" cx=\"351.23\" cy=\"-18\" rx=\"85.29\" ry=\"18\"/>\n",
       "<text text-anchor=\"middle\" x=\"351.23\" y=\"-14.3\" font-family=\"Times,serif\" font-size=\"14.00\">OneHotEncoder</text>\n",
       "</g>\n",
       "<!-- MapValues&#45;&gt;OneHotEncoder -->\n",
       "<g id=\"edge2\" class=\"edge\">\n",
       "<title>MapValues&#45;&gt;OneHotEncoder</title>\n",
       "<path fill=\"none\" stroke=\"black\" d=\"M230.33,-18C238.59,-18 247.21,-18 255.88,-18\"/>\n",
       "<polygon fill=\"black\" stroke=\"black\" points=\"256.07,-21.5 266.07,-18 256.07,-14.5 256.07,-21.5\"/>\n",
       "</g>\n",
       "</g>\n",
       "</svg>\n"
      ],
      "text/plain": [
       "<graphviz.graphs.Digraph at 0x7f10500dc4c0>"
      ]
     },
     "metadata": {},
     "output_type": "display_data"
    }
   ],
   "source": [
    "heart_disease_categorical = fstore.FeatureSet(\n",
    "    name=\"heart_disease_categorical\",\n",
    "    entities=[fstore.Entity(\"patient_id\")]\n",
    ")\n",
    "\n",
    "age_mapping = {'age': {'ranges': {'toddler': [0, 3], 'child': [3, 18], 'adult': [18, 65], 'elder': [65, 120]}}}\n",
    "\n",
    "one_hot_encoder_mapping = {'age_mapped': ['toddler', 'child', 'adult', 'elder'],\n",
    "                           'sex': ['male', 'female'],\n",
    "                           'cp': ['typical_angina', 'atypical_angina', 'non_anginal_pain', 'asymtomatic'],\n",
    "                           'exang': ['no', 'yes'],\n",
    "                           'fbs': [False, True],\n",
    "                           'slope': ['downsloping', 'upsloping', 'flat'],\n",
    "                           'thal': ['normal', 'reversable_defect', 'fixed_defect']}\n",
    "\n",
    "heart_disease_categorical.graph.to(MapValues(mapping=age_mapping, with_original_features=True))\\\n",
    "                               .to(OneHotEncoder(mapping=one_hot_encoder_mapping))\n",
    "\n",
    "display(heart_disease_categorical.plot(rankdir='LR', with_targets=True))\n",
    "\n",
    "resp = fstore.ingest(\n",
    "    featureset=heart_disease_categorical,\n",
    "    source=CSVSource(path=\"s3://igz-us-sales/heart/heart_disease_categorical.csv\")\n",
    ")"
   ]
  },
  {
   "cell_type": "markdown",
   "metadata": {},
   "source": [
    "#### Create Feature Vector"
   ]
  },
  {
   "cell_type": "code",
   "execution_count": 17,
   "metadata": {},
   "outputs": [
    {
     "data": {
      "text/plain": [
       "'store://feature-vectors/gitops-flow-v2/heart-disease-vec'"
      ]
     },
     "execution_count": 17,
     "metadata": {},
     "output_type": "execute_result"
    }
   ],
   "source": [
    "vector = fstore.FeatureVector(\n",
    "    name=\"heart-disease-vec\",\n",
    "    features=[\n",
    "        \"heart_disease_categorical.*\",\n",
    "        \"heart_disease_continuous.*\"\n",
    "    ],\n",
    "    label_feature=\"heart_disease_target.target\",\n",
    "    with_indexes=True\n",
    ")\n",
    "vector.save()\n",
    "\n",
    "uri = vector.uri\n",
    "uri"
   ]
  },
  {
   "cell_type": "markdown",
   "metadata": {},
   "source": [
    "#### Use Feature Vector for Offline Training"
   ]
  },
  {
   "cell_type": "code",
   "execution_count": 18,
   "metadata": {},
   "outputs": [
    {
     "name": "stdout",
     "output_type": "stream",
     "text": [
      "> 2023-09-15 21:51:15,525 [info] wrote target: {'name': 'parquet', 'kind': 'parquet', 'path': 'v3io:///projects/gitops-flow-v2/FeatureStore/heart-disease-vec/parquet/vectors/heart-disease-vec-latest.parquet', 'status': 'ready', 'updated': '2023-09-15T21:51:15.525917+00:00', 'size': 66258, 'partitioned': True}\n"
     ]
    },
    {
     "data": {
      "text/html": [
       "<div>\n",
       "<style scoped>\n",
       "    .dataframe tbody tr th:only-of-type {\n",
       "        vertical-align: middle;\n",
       "    }\n",
       "\n",
       "    .dataframe tbody tr th {\n",
       "        vertical-align: top;\n",
       "    }\n",
       "\n",
       "    .dataframe thead th {\n",
       "        text-align: right;\n",
       "    }\n",
       "</style>\n",
       "<table border=\"1\" class=\"dataframe\">\n",
       "  <thead>\n",
       "    <tr style=\"text-align: right;\">\n",
       "      <th></th>\n",
       "      <th>age_mapped_toddler</th>\n",
       "      <th>age_mapped_child</th>\n",
       "      <th>age_mapped_adult</th>\n",
       "      <th>age_mapped_elder</th>\n",
       "      <th>age</th>\n",
       "      <th>sex_male</th>\n",
       "      <th>sex_female</th>\n",
       "      <th>cp_typical_angina</th>\n",
       "      <th>cp_atypical_angina</th>\n",
       "      <th>cp_non_anginal_pain</th>\n",
       "      <th>...</th>\n",
       "      <th>thal_normal</th>\n",
       "      <th>thal_reversable_defect</th>\n",
       "      <th>thal_fixed_defect</th>\n",
       "      <th>trestbps</th>\n",
       "      <th>chol</th>\n",
       "      <th>restecg</th>\n",
       "      <th>thalach</th>\n",
       "      <th>oldpeak</th>\n",
       "      <th>ca</th>\n",
       "      <th>target</th>\n",
       "    </tr>\n",
       "    <tr>\n",
       "      <th>patient_id</th>\n",
       "      <th></th>\n",
       "      <th></th>\n",
       "      <th></th>\n",
       "      <th></th>\n",
       "      <th></th>\n",
       "      <th></th>\n",
       "      <th></th>\n",
       "      <th></th>\n",
       "      <th></th>\n",
       "      <th></th>\n",
       "      <th></th>\n",
       "      <th></th>\n",
       "      <th></th>\n",
       "      <th></th>\n",
       "      <th></th>\n",
       "      <th></th>\n",
       "      <th></th>\n",
       "      <th></th>\n",
       "      <th></th>\n",
       "      <th></th>\n",
       "      <th></th>\n",
       "    </tr>\n",
       "  </thead>\n",
       "  <tbody>\n",
       "    <tr>\n",
       "      <th>e443544b-8d9e-4f6c-9623-e24b6139aae0</th>\n",
       "      <td>0</td>\n",
       "      <td>0</td>\n",
       "      <td>1</td>\n",
       "      <td>0</td>\n",
       "      <td>52</td>\n",
       "      <td>1</td>\n",
       "      <td>0</td>\n",
       "      <td>1</td>\n",
       "      <td>0</td>\n",
       "      <td>0</td>\n",
       "      <td>...</td>\n",
       "      <td>1</td>\n",
       "      <td>0</td>\n",
       "      <td>0</td>\n",
       "      <td>125</td>\n",
       "      <td>212</td>\n",
       "      <td>1</td>\n",
       "      <td>168</td>\n",
       "      <td>1.0</td>\n",
       "      <td>2.0</td>\n",
       "      <td>0</td>\n",
       "    </tr>\n",
       "    <tr>\n",
       "      <th>8227d3df-16ab-4452-8ea5-99472362d982</th>\n",
       "      <td>0</td>\n",
       "      <td>0</td>\n",
       "      <td>1</td>\n",
       "      <td>0</td>\n",
       "      <td>53</td>\n",
       "      <td>1</td>\n",
       "      <td>0</td>\n",
       "      <td>1</td>\n",
       "      <td>0</td>\n",
       "      <td>0</td>\n",
       "      <td>...</td>\n",
       "      <td>1</td>\n",
       "      <td>0</td>\n",
       "      <td>0</td>\n",
       "      <td>140</td>\n",
       "      <td>203</td>\n",
       "      <td>0</td>\n",
       "      <td>155</td>\n",
       "      <td>3.1</td>\n",
       "      <td>0.0</td>\n",
       "      <td>0</td>\n",
       "    </tr>\n",
       "    <tr>\n",
       "      <th>10c4b4ba-ab40-44de-8aba-6bdb062192c4</th>\n",
       "      <td>0</td>\n",
       "      <td>0</td>\n",
       "      <td>0</td>\n",
       "      <td>1</td>\n",
       "      <td>70</td>\n",
       "      <td>1</td>\n",
       "      <td>0</td>\n",
       "      <td>1</td>\n",
       "      <td>0</td>\n",
       "      <td>0</td>\n",
       "      <td>...</td>\n",
       "      <td>1</td>\n",
       "      <td>0</td>\n",
       "      <td>0</td>\n",
       "      <td>145</td>\n",
       "      <td>174</td>\n",
       "      <td>1</td>\n",
       "      <td>125</td>\n",
       "      <td>2.6</td>\n",
       "      <td>0.0</td>\n",
       "      <td>0</td>\n",
       "    </tr>\n",
       "    <tr>\n",
       "      <th>f0acdc22-7ee6-4817-a671-e136211bc0a6</th>\n",
       "      <td>0</td>\n",
       "      <td>0</td>\n",
       "      <td>1</td>\n",
       "      <td>0</td>\n",
       "      <td>61</td>\n",
       "      <td>1</td>\n",
       "      <td>0</td>\n",
       "      <td>1</td>\n",
       "      <td>0</td>\n",
       "      <td>0</td>\n",
       "      <td>...</td>\n",
       "      <td>1</td>\n",
       "      <td>0</td>\n",
       "      <td>0</td>\n",
       "      <td>148</td>\n",
       "      <td>203</td>\n",
       "      <td>1</td>\n",
       "      <td>161</td>\n",
       "      <td>0.0</td>\n",
       "      <td>1.0</td>\n",
       "      <td>0</td>\n",
       "    </tr>\n",
       "    <tr>\n",
       "      <th>2d6b3bca-4841-4618-9a8c-ca902010b009</th>\n",
       "      <td>0</td>\n",
       "      <td>0</td>\n",
       "      <td>1</td>\n",
       "      <td>0</td>\n",
       "      <td>62</td>\n",
       "      <td>0</td>\n",
       "      <td>1</td>\n",
       "      <td>1</td>\n",
       "      <td>0</td>\n",
       "      <td>0</td>\n",
       "      <td>...</td>\n",
       "      <td>0</td>\n",
       "      <td>1</td>\n",
       "      <td>0</td>\n",
       "      <td>138</td>\n",
       "      <td>294</td>\n",
       "      <td>1</td>\n",
       "      <td>106</td>\n",
       "      <td>1.9</td>\n",
       "      <td>3.0</td>\n",
       "      <td>0</td>\n",
       "    </tr>\n",
       "  </tbody>\n",
       "</table>\n",
       "<p>5 rows × 28 columns</p>\n",
       "</div>"
      ],
      "text/plain": [
       "                                      age_mapped_toddler  age_mapped_child  \\\n",
       "patient_id                                                                   \n",
       "e443544b-8d9e-4f6c-9623-e24b6139aae0                   0                 0   \n",
       "8227d3df-16ab-4452-8ea5-99472362d982                   0                 0   \n",
       "10c4b4ba-ab40-44de-8aba-6bdb062192c4                   0                 0   \n",
       "f0acdc22-7ee6-4817-a671-e136211bc0a6                   0                 0   \n",
       "2d6b3bca-4841-4618-9a8c-ca902010b009                   0                 0   \n",
       "\n",
       "                                      age_mapped_adult  age_mapped_elder  age  \\\n",
       "patient_id                                                                      \n",
       "e443544b-8d9e-4f6c-9623-e24b6139aae0                 1                 0   52   \n",
       "8227d3df-16ab-4452-8ea5-99472362d982                 1                 0   53   \n",
       "10c4b4ba-ab40-44de-8aba-6bdb062192c4                 0                 1   70   \n",
       "f0acdc22-7ee6-4817-a671-e136211bc0a6                 1                 0   61   \n",
       "2d6b3bca-4841-4618-9a8c-ca902010b009                 1                 0   62   \n",
       "\n",
       "                                      sex_male  sex_female  cp_typical_angina  \\\n",
       "patient_id                                                                      \n",
       "e443544b-8d9e-4f6c-9623-e24b6139aae0         1           0                  1   \n",
       "8227d3df-16ab-4452-8ea5-99472362d982         1           0                  1   \n",
       "10c4b4ba-ab40-44de-8aba-6bdb062192c4         1           0                  1   \n",
       "f0acdc22-7ee6-4817-a671-e136211bc0a6         1           0                  1   \n",
       "2d6b3bca-4841-4618-9a8c-ca902010b009         0           1                  1   \n",
       "\n",
       "                                      cp_atypical_angina  cp_non_anginal_pain  \\\n",
       "patient_id                                                                      \n",
       "e443544b-8d9e-4f6c-9623-e24b6139aae0                   0                    0   \n",
       "8227d3df-16ab-4452-8ea5-99472362d982                   0                    0   \n",
       "10c4b4ba-ab40-44de-8aba-6bdb062192c4                   0                    0   \n",
       "f0acdc22-7ee6-4817-a671-e136211bc0a6                   0                    0   \n",
       "2d6b3bca-4841-4618-9a8c-ca902010b009                   0                    0   \n",
       "\n",
       "                                      ...  thal_normal  \\\n",
       "patient_id                            ...                \n",
       "e443544b-8d9e-4f6c-9623-e24b6139aae0  ...            1   \n",
       "8227d3df-16ab-4452-8ea5-99472362d982  ...            1   \n",
       "10c4b4ba-ab40-44de-8aba-6bdb062192c4  ...            1   \n",
       "f0acdc22-7ee6-4817-a671-e136211bc0a6  ...            1   \n",
       "2d6b3bca-4841-4618-9a8c-ca902010b009  ...            0   \n",
       "\n",
       "                                      thal_reversable_defect  \\\n",
       "patient_id                                                     \n",
       "e443544b-8d9e-4f6c-9623-e24b6139aae0                       0   \n",
       "8227d3df-16ab-4452-8ea5-99472362d982                       0   \n",
       "10c4b4ba-ab40-44de-8aba-6bdb062192c4                       0   \n",
       "f0acdc22-7ee6-4817-a671-e136211bc0a6                       0   \n",
       "2d6b3bca-4841-4618-9a8c-ca902010b009                       1   \n",
       "\n",
       "                                      thal_fixed_defect  trestbps  chol  \\\n",
       "patient_id                                                                \n",
       "e443544b-8d9e-4f6c-9623-e24b6139aae0                  0       125   212   \n",
       "8227d3df-16ab-4452-8ea5-99472362d982                  0       140   203   \n",
       "10c4b4ba-ab40-44de-8aba-6bdb062192c4                  0       145   174   \n",
       "f0acdc22-7ee6-4817-a671-e136211bc0a6                  0       148   203   \n",
       "2d6b3bca-4841-4618-9a8c-ca902010b009                  0       138   294   \n",
       "\n",
       "                                      restecg  thalach  oldpeak   ca  target  \n",
       "patient_id                                                                    \n",
       "e443544b-8d9e-4f6c-9623-e24b6139aae0        1      168      1.0  2.0       0  \n",
       "8227d3df-16ab-4452-8ea5-99472362d982        0      155      3.1  0.0       0  \n",
       "10c4b4ba-ab40-44de-8aba-6bdb062192c4        1      125      2.6  0.0       0  \n",
       "f0acdc22-7ee6-4817-a671-e136211bc0a6        1      161      0.0  1.0       0  \n",
       "2d6b3bca-4841-4618-9a8c-ca902010b009        1      106      1.9  3.0       0  \n",
       "\n",
       "[5 rows x 28 columns]"
      ]
     },
     "execution_count": 18,
     "metadata": {},
     "output_type": "execute_result"
    }
   ],
   "source": [
    "fstore.get_offline_features(feature_vector=uri, target=ParquetTarget()).to_dataframe().head()"
   ]
  },
  {
   "cell_type": "markdown",
   "metadata": {},
   "source": [
    "#### Online Feature Vector for Real-Time Inference"
   ]
  },
  {
   "cell_type": "code",
   "execution_count": 19,
   "metadata": {},
   "outputs": [],
   "source": [
    "feature_service = fstore.get_online_feature_service(uri)"
   ]
  },
  {
   "cell_type": "code",
   "execution_count": 20,
   "metadata": {},
   "outputs": [
    {
     "data": {
      "text/plain": [
       "[{'patient_id': 'e443544b-8d9e-4f6c-9623-e24b6139aae0',\n",
       "  'age_mapped_toddler': 0,\n",
       "  'age_mapped_child': 0,\n",
       "  'age_mapped_adult': 1,\n",
       "  'age_mapped_elder': 0,\n",
       "  'age': 52,\n",
       "  'sex_male': 1,\n",
       "  'sex_female': 0,\n",
       "  'cp_typical_angina': 1,\n",
       "  'cp_atypical_angina': 0,\n",
       "  'cp_non_anginal_pain': 0,\n",
       "  'cp_asymtomatic': 0,\n",
       "  'exang_no': 1,\n",
       "  'exang_yes': 0,\n",
       "  'fbs_False': 1,\n",
       "  'fbs_True': 0,\n",
       "  'slope_downsloping': 1,\n",
       "  'slope_upsloping': 0,\n",
       "  'slope_flat': 0,\n",
       "  'thal_normal': 1,\n",
       "  'thal_reversable_defect': 0,\n",
       "  'thal_fixed_defect': 0,\n",
       "  'trestbps': 125,\n",
       "  'chol': 212,\n",
       "  'restecg': 1,\n",
       "  'thalach': 168,\n",
       "  'oldpeak': 1.0,\n",
       "  'ca': 2.0},\n",
       " {'patient_id': '8227d3df-16ab-4452-8ea5-99472362d982',\n",
       "  'age_mapped_toddler': 0,\n",
       "  'age_mapped_child': 0,\n",
       "  'age_mapped_adult': 1,\n",
       "  'age_mapped_elder': 0,\n",
       "  'age': 53,\n",
       "  'sex_male': 1,\n",
       "  'sex_female': 0,\n",
       "  'cp_typical_angina': 1,\n",
       "  'cp_atypical_angina': 0,\n",
       "  'cp_non_anginal_pain': 0,\n",
       "  'cp_asymtomatic': 0,\n",
       "  'exang_no': 0,\n",
       "  'exang_yes': 1,\n",
       "  'fbs_False': 0,\n",
       "  'fbs_True': 1,\n",
       "  'slope_downsloping': 0,\n",
       "  'slope_upsloping': 1,\n",
       "  'slope_flat': 0,\n",
       "  'thal_normal': 1,\n",
       "  'thal_reversable_defect': 0,\n",
       "  'thal_fixed_defect': 0,\n",
       "  'trestbps': 140,\n",
       "  'chol': 203,\n",
       "  'restecg': 0,\n",
       "  'thalach': 155,\n",
       "  'oldpeak': 3.1,\n",
       "  'ca': 0.0}]"
      ]
     },
     "execution_count": 20,
     "metadata": {},
     "output_type": "execute_result"
    }
   ],
   "source": [
    "feature_service.get(\n",
    "    [\n",
    "        {\"patient_id\" : \"e443544b-8d9e-4f6c-9623-e24b6139aae0\"},\n",
    "        {\"patient_id\" : \"8227d3df-16ab-4452-8ea5-99472362d982\"}\n",
    "    ]\n",
    ")"
   ]
  },
  {
   "cell_type": "markdown",
   "metadata": {
    "jp-MarkdownHeadingCollapsed": true,
    "tags": []
   },
   "source": [
    "### Run Training Pipeline"
   ]
  },
  {
   "cell_type": "code",
   "execution_count": 25,
   "metadata": {},
   "outputs": [
    {
     "data": {
      "text/plain": [
       "{'source_url': 'store://feature-vectors/gitops-flow-v2/heart-disease-vec',\n",
       " 'label_column': 'target'}"
      ]
     },
     "execution_count": 25,
     "metadata": {},
     "output_type": "execute_result"
    }
   ],
   "source": [
    "arguments = {\n",
    "    \"source_url\" : uri,\n",
    "    \"label_column\" : \"target\"\n",
    "}\n",
    "arguments"
   ]
  },
  {
   "cell_type": "code",
   "execution_count": 26,
   "metadata": {},
   "outputs": [
    {
     "data": {
      "text/html": [
       "<div>Pipeline running (id=b0abf28b-f41d-4abd-8b7d-5df030cc1181), <a href=\"https://dashboard.default-tenant.app.us-tmp-353.iguazio-cd2.com/mlprojects/gitops-flow-v2/jobs/monitor-workflows/workflow/b0abf28b-f41d-4abd-8b7d-5df030cc1181\" target=\"_blank\"><b>click here</b></a> to view the details in MLRun UI</div>"
      ],
      "text/plain": [
       "<IPython.core.display.HTML object>"
      ]
     },
     "metadata": {},
     "output_type": "display_data"
    },
    {
     "data": {
      "image/svg+xml": [
       "<?xml version=\"1.0\" encoding=\"UTF-8\" standalone=\"no\"?>\n",
       "<!DOCTYPE svg PUBLIC \"-//W3C//DTD SVG 1.1//EN\"\n",
       " \"http://www.w3.org/Graphics/SVG/1.1/DTD/svg11.dtd\">\n",
       "<!-- Generated by graphviz version 2.43.0 (0)\n",
       " -->\n",
       "<!-- Title: kfp Pages: 1 -->\n",
       "<svg width=\"192pt\" height=\"188pt\"\n",
       " viewBox=\"0.00 0.00 192.19 188.00\" xmlns=\"http://www.w3.org/2000/svg\" xmlns:xlink=\"http://www.w3.org/1999/xlink\">\n",
       "<g id=\"graph0\" class=\"graph\" transform=\"scale(1 1) rotate(0) translate(4 184)\">\n",
       "<title>kfp</title>\n",
       "<polygon fill=\"white\" stroke=\"transparent\" points=\"-4,4 -4,-184 188.19,-184 188.19,4 -4,4\"/>\n",
       "<!-- gitops&#45;training&#45;pipeline&#45;s67w5&#45;1600247639 -->\n",
       "<g id=\"node1\" class=\"node\">\n",
       "<title>gitops&#45;training&#45;pipeline&#45;s67w5&#45;1600247639</title>\n",
       "<ellipse fill=\"green\" stroke=\"black\" cx=\"50.05\" cy=\"-90\" rx=\"50.09\" ry=\"18\"/>\n",
       "<text text-anchor=\"middle\" x=\"50.05\" y=\"-86.3\" font-family=\"Times,serif\" font-size=\"14.00\">describe</text>\n",
       "</g>\n",
       "<!-- gitops&#45;training&#45;pipeline&#45;s67w5&#45;2202759590 -->\n",
       "<g id=\"node2\" class=\"node\">\n",
       "<title>gitops&#45;training&#45;pipeline&#45;s67w5&#45;2202759590</title>\n",
       "<ellipse fill=\"green\" stroke=\"black\" cx=\"151.05\" cy=\"-18\" rx=\"28.7\" ry=\"18\"/>\n",
       "<text text-anchor=\"middle\" x=\"151.05\" y=\"-14.3\" font-family=\"Times,serif\" font-size=\"14.00\">test</text>\n",
       "</g>\n",
       "<!-- gitops&#45;training&#45;pipeline&#45;s67w5&#45;3410915749 -->\n",
       "<g id=\"node3\" class=\"node\">\n",
       "<title>gitops&#45;training&#45;pipeline&#45;s67w5&#45;3410915749</title>\n",
       "<ellipse fill=\"green\" stroke=\"black\" cx=\"100.05\" cy=\"-162\" rx=\"49.29\" ry=\"18\"/>\n",
       "<text text-anchor=\"middle\" x=\"100.05\" y=\"-158.3\" font-family=\"Times,serif\" font-size=\"14.00\">get&#45;data</text>\n",
       "</g>\n",
       "<!-- gitops&#45;training&#45;pipeline&#45;s67w5&#45;3410915749&#45;&gt;gitops&#45;training&#45;pipeline&#45;s67w5&#45;1600247639 -->\n",
       "<g id=\"edge1\" class=\"edge\">\n",
       "<title>gitops&#45;training&#45;pipeline&#45;s67w5&#45;3410915749&#45;&gt;gitops&#45;training&#45;pipeline&#45;s67w5&#45;1600247639</title>\n",
       "<path fill=\"none\" stroke=\"black\" d=\"M88.2,-144.41C82.18,-135.99 74.75,-125.58 68.05,-116.2\"/>\n",
       "<polygon fill=\"black\" stroke=\"black\" points=\"70.82,-114.06 62.16,-107.96 65.12,-118.13 70.82,-114.06\"/>\n",
       "</g>\n",
       "<!-- gitops&#45;training&#45;pipeline&#45;s67w5&#45;343215364 -->\n",
       "<g id=\"node4\" class=\"node\">\n",
       "<title>gitops&#45;training&#45;pipeline&#45;s67w5&#45;343215364</title>\n",
       "<ellipse fill=\"green\" stroke=\"black\" cx=\"151.05\" cy=\"-90\" rx=\"33.29\" ry=\"18\"/>\n",
       "<text text-anchor=\"middle\" x=\"151.05\" y=\"-86.3\" font-family=\"Times,serif\" font-size=\"14.00\">train</text>\n",
       "</g>\n",
       "<!-- gitops&#45;training&#45;pipeline&#45;s67w5&#45;3410915749&#45;&gt;gitops&#45;training&#45;pipeline&#45;s67w5&#45;343215364 -->\n",
       "<g id=\"edge2\" class=\"edge\">\n",
       "<title>gitops&#45;training&#45;pipeline&#45;s67w5&#45;3410915749&#45;&gt;gitops&#45;training&#45;pipeline&#45;s67w5&#45;343215364</title>\n",
       "<path fill=\"none\" stroke=\"black\" d=\"M112.13,-144.41C118.51,-135.66 126.46,-124.75 133.5,-115.08\"/>\n",
       "<polygon fill=\"black\" stroke=\"black\" points=\"136.34,-117.13 139.4,-106.99 130.68,-113.01 136.34,-117.13\"/>\n",
       "</g>\n",
       "<!-- gitops&#45;training&#45;pipeline&#45;s67w5&#45;343215364&#45;&gt;gitops&#45;training&#45;pipeline&#45;s67w5&#45;2202759590 -->\n",
       "<g id=\"edge3\" class=\"edge\">\n",
       "<title>gitops&#45;training&#45;pipeline&#45;s67w5&#45;343215364&#45;&gt;gitops&#45;training&#45;pipeline&#45;s67w5&#45;2202759590</title>\n",
       "<path fill=\"none\" stroke=\"black\" d=\"M151.05,-71.7C151.05,-63.98 151.05,-54.71 151.05,-46.11\"/>\n",
       "<polygon fill=\"black\" stroke=\"black\" points=\"154.55,-46.1 151.05,-36.1 147.55,-46.1 154.55,-46.1\"/>\n",
       "</g>\n",
       "</g>\n",
       "</svg>\n"
      ],
      "text/plain": [
       "<graphviz.graphs.Digraph at 0x7f0fbd446d00>"
      ]
     },
     "metadata": {},
     "output_type": "display_data"
    },
    {
     "data": {
      "text/html": [
       "<h2>Run Results</h2><h3>[info] Workflow b0abf28b-f41d-4abd-8b7d-5df030cc1181 finished, state=Succeeded</h3><br>click the hyper links below to see detailed results<br><table border=\"1\" class=\"dataframe\">\n",
       "  <thead>\n",
       "    <tr style=\"text-align: right;\">\n",
       "      <th>uid</th>\n",
       "      <th>start</th>\n",
       "      <th>state</th>\n",
       "      <th>name</th>\n",
       "      <th>parameters</th>\n",
       "      <th>results</th>\n",
       "    </tr>\n",
       "  </thead>\n",
       "  <tbody>\n",
       "    <tr>\n",
       "      <td><div title=\"9a6d1198b9ea4381891f52d6eebedbe9\"><a href=\"https://dashboard.default-tenant.app.us-tmp-353.iguazio-cd2.com/mlprojects/gitops-flow-v2/jobs/monitor/9a6d1198b9ea4381891f52d6eebedbe9/overview\" target=\"_blank\" >...eebedbe9</a></div></td>\n",
       "      <td>Sep 15 21:55:57</td>\n",
       "      <td>completed</td>\n",
       "      <td>test</td>\n",
       "      <td><div class=\"dictlist\">label_column=target</div><div class=\"dictlist\">new_model_path=store://artifacts/gitops-flow-v2/model:b0abf28b-f41d-4abd-8b7d-5df030cc1181</div><div class=\"dictlist\">existing_model_path=None</div><div class=\"dictlist\">comparison_metric=accuracy</div><div class=\"dictlist\">post_github=True</div><div class=\"dictlist\">force_deploy=False</div></td>\n",
       "      <td><div class=\"dictlist\">accuracy-new_model=1.0</div><div class=\"dictlist\">test-error-new_model=0.0</div><div class=\"dictlist\">f1-new_model=1.0</div><div class=\"dictlist\">precision-new_model=1.0</div><div class=\"dictlist\">recall-new_model=1.0</div></td>\n",
       "    </tr>\n",
       "    <tr>\n",
       "      <td><div title=\"a1722ab7482642f196c62a2e3e12163e\"><a href=\"https://dashboard.default-tenant.app.us-tmp-353.iguazio-cd2.com/mlprojects/gitops-flow-v2/jobs/monitor/a1722ab7482642f196c62a2e3e12163e/overview\" target=\"_blank\" >...3e12163e</a></div></td>\n",
       "      <td>Sep 15 21:55:20</td>\n",
       "      <td>completed</td>\n",
       "      <td>train</td>\n",
       "      <td><div class=\"dictlist\">label_column=target</div><div class=\"dictlist\">test_size=0.1</div></td>\n",
       "      <td><div class=\"dictlist\">accuracy=1.0</div><div class=\"dictlist\">f1_score=1.0</div><div class=\"dictlist\">precision_score=1.0</div><div class=\"dictlist\">recall_score=1.0</div></td>\n",
       "    </tr>\n",
       "    <tr>\n",
       "      <td><div title=\"56469181838d416d8ef950b102e5c0d6\"><a href=\"https://dashboard.default-tenant.app.us-tmp-353.iguazio-cd2.com/mlprojects/gitops-flow-v2/jobs/monitor/56469181838d416d8ef950b102e5c0d6/overview\" target=\"_blank\" >...02e5c0d6</a></div></td>\n",
       "      <td>Sep 15 21:55:20</td>\n",
       "      <td>completed</td>\n",
       "      <td>describe</td>\n",
       "      <td><div class=\"dictlist\">label_column=target</div></td>\n",
       "      <td></td>\n",
       "    </tr>\n",
       "    <tr>\n",
       "      <td><div title=\"164446f8f8b94c819705c847fa8c9787\"><a href=\"https://dashboard.default-tenant.app.us-tmp-353.iguazio-cd2.com/mlprojects/gitops-flow-v2/jobs/monitor/164446f8f8b94c819705c847fa8c9787/overview\" target=\"_blank\" >...fa8c9787</a></div></td>\n",
       "      <td>Sep 15 21:54:49</td>\n",
       "      <td>completed</td>\n",
       "      <td>get-data</td>\n",
       "      <td></td>\n",
       "      <td><div class=\"dictlist\">num_rows=968</div></td>\n",
       "    </tr>\n",
       "  </tbody>\n",
       "</table>"
      ],
      "text/plain": [
       "<IPython.core.display.HTML object>"
      ]
     },
     "metadata": {},
     "output_type": "display_data"
    }
   ],
   "source": [
    "run_id = project.run(\n",
    "    name=\"train\",\n",
    "    arguments=arguments,\n",
    "    dirty=True,\n",
    "    watch=True\n",
    ")"
   ]
  },
  {
   "cell_type": "markdown",
   "metadata": {
    "jp-MarkdownHeadingCollapsed": true,
    "tags": []
   },
   "source": [
    "### Run Deployment Pipeline"
   ]
  },
  {
   "cell_type": "code",
   "execution_count": 27,
   "metadata": {},
   "outputs": [
    {
     "data": {
      "text/html": [
       "<div>Pipeline running (id=8d9f5b1c-b8b4-4d25-80e6-82d2d0fa7b98), <a href=\"https://dashboard.default-tenant.app.us-tmp-353.iguazio-cd2.com/mlprojects/gitops-flow-v2/jobs/monitor-workflows/workflow/8d9f5b1c-b8b4-4d25-80e6-82d2d0fa7b98\" target=\"_blank\"><b>click here</b></a> to view the details in MLRun UI</div>"
      ],
      "text/plain": [
       "<IPython.core.display.HTML object>"
      ]
     },
     "metadata": {},
     "output_type": "display_data"
    },
    {
     "data": {
      "image/svg+xml": [
       "<?xml version=\"1.0\" encoding=\"UTF-8\" standalone=\"no\"?>\n",
       "<!DOCTYPE svg PUBLIC \"-//W3C//DTD SVG 1.1//EN\"\n",
       " \"http://www.w3.org/Graphics/SVG/1.1/DTD/svg11.dtd\">\n",
       "<!-- Generated by graphviz version 2.43.0 (0)\n",
       " -->\n",
       "<!-- Title: kfp Pages: 1 -->\n",
       "<svg width=\"366pt\" height=\"188pt\"\n",
       " viewBox=\"0.00 0.00 365.50 188.00\" xmlns=\"http://www.w3.org/2000/svg\" xmlns:xlink=\"http://www.w3.org/1999/xlink\">\n",
       "<g id=\"graph0\" class=\"graph\" transform=\"scale(1 1) rotate(0) translate(4 184)\">\n",
       "<title>kfp</title>\n",
       "<polygon fill=\"white\" stroke=\"transparent\" points=\"-4,4 -4,-184 361.5,-184 361.5,4 -4,4\"/>\n",
       "<!-- gitops&#45;deployment&#45;pipeline&#45;jpvf2&#45;109665845 -->\n",
       "<g id=\"node1\" class=\"node\">\n",
       "<title>gitops&#45;deployment&#45;pipeline&#45;jpvf2&#45;109665845</title>\n",
       "<polygon fill=\"green\" stroke=\"black\" points=\"162,-36 4,-36 0,-32 0,0 158,0 162,-4 162,-36\"/>\n",
       "<polyline fill=\"none\" stroke=\"black\" points=\"158,-32 0,-32 \"/>\n",
       "<polyline fill=\"none\" stroke=\"black\" points=\"158,-32 158,0 \"/>\n",
       "<polyline fill=\"none\" stroke=\"black\" points=\"158,-32 162,-36 \"/>\n",
       "<text text-anchor=\"middle\" x=\"81\" y=\"-14.3\" font-family=\"Times,serif\" font-size=\"14.00\">deploy&#45;drift&#45;watcher</text>\n",
       "</g>\n",
       "<!-- gitops&#45;deployment&#45;pipeline&#45;jpvf2&#45;1517423023 -->\n",
       "<g id=\"node2\" class=\"node\">\n",
       "<title>gitops&#45;deployment&#45;pipeline&#45;jpvf2&#45;1517423023</title>\n",
       "<polygon fill=\"green\" stroke=\"black\" points=\"236,-108 118,-108 114,-104 114,-72 232,-72 236,-76 236,-108\"/>\n",
       "<polyline fill=\"none\" stroke=\"black\" points=\"232,-104 114,-104 \"/>\n",
       "<polyline fill=\"none\" stroke=\"black\" points=\"232,-104 232,-72 \"/>\n",
       "<polyline fill=\"none\" stroke=\"black\" points=\"232,-104 236,-108 \"/>\n",
       "<text text-anchor=\"middle\" x=\"175\" y=\"-86.3\" font-family=\"Times,serif\" font-size=\"14.00\">deploy&#45;serving</text>\n",
       "</g>\n",
       "<!-- gitops&#45;deployment&#45;pipeline&#45;jpvf2&#45;1517423023&#45;&gt;gitops&#45;deployment&#45;pipeline&#45;jpvf2&#45;109665845 -->\n",
       "<g id=\"edge1\" class=\"edge\">\n",
       "<title>gitops&#45;deployment&#45;pipeline&#45;jpvf2&#45;1517423023&#45;&gt;gitops&#45;deployment&#45;pipeline&#45;jpvf2&#45;109665845</title>\n",
       "<path fill=\"none\" stroke=\"black\" d=\"M151.76,-71.7C139.81,-62.8 125.08,-51.82 112.15,-42.2\"/>\n",
       "<polygon fill=\"black\" stroke=\"black\" points=\"114.08,-39.27 103.97,-36.1 109.9,-44.88 114.08,-39.27\"/>\n",
       "</g>\n",
       "<!-- gitops&#45;deployment&#45;pipeline&#45;jpvf2&#45;925350107 -->\n",
       "<g id=\"node3\" class=\"node\">\n",
       "<title>gitops&#45;deployment&#45;pipeline&#45;jpvf2&#45;925350107</title>\n",
       "<polygon fill=\"green\" stroke=\"black\" points=\"357.5,-36 184.5,-36 180.5,-32 180.5,0 353.5,0 357.5,-4 357.5,-36\"/>\n",
       "<polyline fill=\"none\" stroke=\"black\" points=\"353.5,-32 180.5,-32 \"/>\n",
       "<polyline fill=\"none\" stroke=\"black\" points=\"353.5,-32 353.5,0 \"/>\n",
       "<polyline fill=\"none\" stroke=\"black\" points=\"353.5,-32 357.5,-36 \"/>\n",
       "<text text-anchor=\"middle\" x=\"269\" y=\"-14.3\" font-family=\"Times,serif\" font-size=\"14.00\">deploy&#45;simulate&#45;traffic</text>\n",
       "</g>\n",
       "<!-- gitops&#45;deployment&#45;pipeline&#45;jpvf2&#45;1517423023&#45;&gt;gitops&#45;deployment&#45;pipeline&#45;jpvf2&#45;925350107 -->\n",
       "<g id=\"edge2\" class=\"edge\">\n",
       "<title>gitops&#45;deployment&#45;pipeline&#45;jpvf2&#45;1517423023&#45;&gt;gitops&#45;deployment&#45;pipeline&#45;jpvf2&#45;925350107</title>\n",
       "<path fill=\"none\" stroke=\"black\" d=\"M198.24,-71.7C210.19,-62.8 224.92,-51.82 237.85,-42.2\"/>\n",
       "<polygon fill=\"black\" stroke=\"black\" points=\"240.1,-44.88 246.03,-36.1 235.92,-39.27 240.1,-44.88\"/>\n",
       "</g>\n",
       "<!-- gitops&#45;deployment&#45;pipeline&#45;jpvf2&#45;51595598 -->\n",
       "<g id=\"node4\" class=\"node\">\n",
       "<title>gitops&#45;deployment&#45;pipeline&#45;jpvf2&#45;51595598</title>\n",
       "<ellipse fill=\"green\" stroke=\"black\" cx=\"175\" cy=\"-162\" rx=\"98.58\" ry=\"18\"/>\n",
       "<text text-anchor=\"middle\" x=\"175\" y=\"-158.3\" font-family=\"Times,serif\" font-size=\"14.00\">create&#45;drift&#45;stream</text>\n",
       "</g>\n",
       "<!-- gitops&#45;deployment&#45;pipeline&#45;jpvf2&#45;51595598&#45;&gt;gitops&#45;deployment&#45;pipeline&#45;jpvf2&#45;1517423023 -->\n",
       "<g id=\"edge3\" class=\"edge\">\n",
       "<title>gitops&#45;deployment&#45;pipeline&#45;jpvf2&#45;51595598&#45;&gt;gitops&#45;deployment&#45;pipeline&#45;jpvf2&#45;1517423023</title>\n",
       "<path fill=\"none\" stroke=\"black\" d=\"M175,-143.7C175,-135.98 175,-126.71 175,-118.11\"/>\n",
       "<polygon fill=\"black\" stroke=\"black\" points=\"178.5,-118.1 175,-108.1 171.5,-118.1 178.5,-118.1\"/>\n",
       "</g>\n",
       "</g>\n",
       "</svg>\n"
      ],
      "text/plain": [
       "<graphviz.graphs.Digraph at 0x7f0fbd452400>"
      ]
     },
     "metadata": {},
     "output_type": "display_data"
    },
    {
     "data": {
      "text/html": [
       "<h2>Run Results</h2><h3>[info] Workflow 8d9f5b1c-b8b4-4d25-80e6-82d2d0fa7b98 finished, state=Succeeded</h3><br>click the hyper links below to see detailed results<br><table border=\"1\" class=\"dataframe\">\n",
       "  <thead>\n",
       "    <tr style=\"text-align: right;\">\n",
       "      <th>uid</th>\n",
       "      <th>start</th>\n",
       "      <th>state</th>\n",
       "      <th>name</th>\n",
       "      <th>parameters</th>\n",
       "      <th>results</th>\n",
       "    </tr>\n",
       "  </thead>\n",
       "  <tbody>\n",
       "    <tr>\n",
       "      <td><div title=\"630e38004917401fba453217463132ad\"><a href=\"https://dashboard.default-tenant.app.us-tmp-353.iguazio-cd2.com/mlprojects/gitops-flow-v2/jobs/monitor/630e38004917401fba453217463132ad/overview\" target=\"_blank\" >...463132ad</a></div></td>\n",
       "      <td>Sep 15 21:56:24</td>\n",
       "      <td>completed</td>\n",
       "      <td>create-drift-stream</td>\n",
       "      <td><div class=\"dictlist\">stream_path=pipelines/gitops-flow-v2/model-endpoints/log_stream</div></td>\n",
       "      <td></td>\n",
       "    </tr>\n",
       "  </tbody>\n",
       "</table>"
      ],
      "text/plain": [
       "<IPython.core.display.HTML object>"
      ]
     },
     "metadata": {},
     "output_type": "display_data"
    }
   ],
   "source": [
    "run_id = project.run(\n",
    "    name=\"deploy\",\n",
    "    arguments={\"model_path\": \"store://models/gitops-flow-v2/model#0:latest\"},\n",
    "    dirty=True,\n",
    "    watch=True\n",
    ")"
   ]
  },
  {
   "cell_type": "markdown",
   "metadata": {
    "jp-MarkdownHeadingCollapsed": true,
    "tags": []
   },
   "source": [
    "### Invoke Model"
   ]
  },
  {
   "cell_type": "code",
   "execution_count": 42,
   "metadata": {
    "tags": []
   },
   "outputs": [
    {
     "name": "stdout",
     "output_type": "stream",
     "text": [
      "> 2023-09-15 22:10:30,393 [info] invoking function: {'method': 'POST', 'path': 'http://nuclio-gitops-flow-v2-serving.default-tenant.svc.cluster.local:8080/v2/models/model/infer'}\n"
     ]
    },
    {
     "data": {
      "text/plain": [
       "{'id': '9120f83a-c731-4f93-879b-05c00868e362',\n",
       " 'model_name': 'model',\n",
       " 'outputs': [1, 1, 0]}"
      ]
     },
     "execution_count": 42,
     "metadata": {},
     "output_type": "execute_result"
    }
   ],
   "source": [
    "serving_fn = project.get_function(\"serving\")\n",
    "serving_fn.invoke(\n",
    "    path='/v2/models/model/infer',\n",
    "    body={\n",
    "        \"inputs\" : [\n",
    "            [0, 0, 1, 0, 50, 0, 1, 0, 0, 1, 0, 1, 0, 1, 0, 0, 0, 1, 0, 1, 0, 120, 219, 1, 158, 1.6, 0.0],\n",
    "            [0, 0, 1, 0, 44, 1, 0, 0, 1, 0, 0, 1, 0, 1, 0, 1, 0, 0, 0, 1, 0, 130, 219, 0, 188, 0.0, 0.0],\n",
    "            [0, 0, 0, 1, 70, 1, 0, 1, 0, 0, 0, 1, 0, 1, 0, 0, 0, 1, 0, 1, 0, 130, 322, 0, 109, 2.4, 3.0]\n",
    "        ]\n",
    "    }\n",
    ")"
   ]
  },
  {
   "cell_type": "markdown",
   "metadata": {
    "jp-MarkdownHeadingCollapsed": true,
    "tags": []
   },
   "source": [
    "### Simulate Traffic\n",
    "\n",
    "MLRun real-time drift detection requires 10,000 events"
   ]
  },
  {
   "cell_type": "code",
   "execution_count": 36,
   "metadata": {},
   "outputs": [
    {
     "data": {
      "text/html": [
       "<div>\n",
       "<style scoped>\n",
       "    .dataframe tbody tr th:only-of-type {\n",
       "        vertical-align: middle;\n",
       "    }\n",
       "\n",
       "    .dataframe tbody tr th {\n",
       "        vertical-align: top;\n",
       "    }\n",
       "\n",
       "    .dataframe thead th {\n",
       "        text-align: right;\n",
       "    }\n",
       "</style>\n",
       "<table border=\"1\" class=\"dataframe\">\n",
       "  <thead>\n",
       "    <tr style=\"text-align: right;\">\n",
       "      <th></th>\n",
       "      <th>age_mapped_toddler</th>\n",
       "      <th>age_mapped_child</th>\n",
       "      <th>age_mapped_adult</th>\n",
       "      <th>age_mapped_elder</th>\n",
       "      <th>age</th>\n",
       "      <th>sex_male</th>\n",
       "      <th>sex_female</th>\n",
       "      <th>cp_typical_angina</th>\n",
       "      <th>cp_atypical_angina</th>\n",
       "      <th>cp_non_anginal_pain</th>\n",
       "      <th>...</th>\n",
       "      <th>thal_normal</th>\n",
       "      <th>thal_reversable_defect</th>\n",
       "      <th>thal_fixed_defect</th>\n",
       "      <th>trestbps</th>\n",
       "      <th>chol</th>\n",
       "      <th>restecg</th>\n",
       "      <th>thalach</th>\n",
       "      <th>oldpeak</th>\n",
       "      <th>ca</th>\n",
       "      <th>target</th>\n",
       "    </tr>\n",
       "  </thead>\n",
       "  <tbody>\n",
       "    <tr>\n",
       "      <th>0</th>\n",
       "      <td>0</td>\n",
       "      <td>0</td>\n",
       "      <td>1</td>\n",
       "      <td>0</td>\n",
       "      <td>50</td>\n",
       "      <td>0</td>\n",
       "      <td>1</td>\n",
       "      <td>0</td>\n",
       "      <td>0</td>\n",
       "      <td>1</td>\n",
       "      <td>...</td>\n",
       "      <td>0</td>\n",
       "      <td>1</td>\n",
       "      <td>0</td>\n",
       "      <td>120</td>\n",
       "      <td>219</td>\n",
       "      <td>1</td>\n",
       "      <td>158</td>\n",
       "      <td>1.6</td>\n",
       "      <td>0.0</td>\n",
       "      <td>1</td>\n",
       "    </tr>\n",
       "    <tr>\n",
       "      <th>1</th>\n",
       "      <td>0</td>\n",
       "      <td>0</td>\n",
       "      <td>1</td>\n",
       "      <td>0</td>\n",
       "      <td>44</td>\n",
       "      <td>1</td>\n",
       "      <td>0</td>\n",
       "      <td>0</td>\n",
       "      <td>1</td>\n",
       "      <td>0</td>\n",
       "      <td>...</td>\n",
       "      <td>0</td>\n",
       "      <td>1</td>\n",
       "      <td>0</td>\n",
       "      <td>130</td>\n",
       "      <td>219</td>\n",
       "      <td>0</td>\n",
       "      <td>188</td>\n",
       "      <td>0.0</td>\n",
       "      <td>0.0</td>\n",
       "      <td>1</td>\n",
       "    </tr>\n",
       "    <tr>\n",
       "      <th>2</th>\n",
       "      <td>0</td>\n",
       "      <td>0</td>\n",
       "      <td>0</td>\n",
       "      <td>1</td>\n",
       "      <td>70</td>\n",
       "      <td>1</td>\n",
       "      <td>0</td>\n",
       "      <td>1</td>\n",
       "      <td>0</td>\n",
       "      <td>0</td>\n",
       "      <td>...</td>\n",
       "      <td>0</td>\n",
       "      <td>1</td>\n",
       "      <td>0</td>\n",
       "      <td>130</td>\n",
       "      <td>322</td>\n",
       "      <td>0</td>\n",
       "      <td>109</td>\n",
       "      <td>2.4</td>\n",
       "      <td>3.0</td>\n",
       "      <td>0</td>\n",
       "    </tr>\n",
       "    <tr>\n",
       "      <th>3</th>\n",
       "      <td>0</td>\n",
       "      <td>0</td>\n",
       "      <td>1</td>\n",
       "      <td>0</td>\n",
       "      <td>60</td>\n",
       "      <td>0</td>\n",
       "      <td>1</td>\n",
       "      <td>1</td>\n",
       "      <td>0</td>\n",
       "      <td>0</td>\n",
       "      <td>...</td>\n",
       "      <td>1</td>\n",
       "      <td>0</td>\n",
       "      <td>0</td>\n",
       "      <td>150</td>\n",
       "      <td>258</td>\n",
       "      <td>0</td>\n",
       "      <td>157</td>\n",
       "      <td>2.6</td>\n",
       "      <td>2.0</td>\n",
       "      <td>0</td>\n",
       "    </tr>\n",
       "    <tr>\n",
       "      <th>4</th>\n",
       "      <td>0</td>\n",
       "      <td>0</td>\n",
       "      <td>1</td>\n",
       "      <td>0</td>\n",
       "      <td>47</td>\n",
       "      <td>1</td>\n",
       "      <td>0</td>\n",
       "      <td>0</td>\n",
       "      <td>0</td>\n",
       "      <td>1</td>\n",
       "      <td>...</td>\n",
       "      <td>0</td>\n",
       "      <td>1</td>\n",
       "      <td>0</td>\n",
       "      <td>138</td>\n",
       "      <td>257</td>\n",
       "      <td>0</td>\n",
       "      <td>156</td>\n",
       "      <td>0.0</td>\n",
       "      <td>0.0</td>\n",
       "      <td>1</td>\n",
       "    </tr>\n",
       "  </tbody>\n",
       "</table>\n",
       "<p>5 rows × 28 columns</p>\n",
       "</div>"
      ],
      "text/plain": [
       "   age_mapped_toddler  age_mapped_child  age_mapped_adult  age_mapped_elder  \\\n",
       "0                   0                 0                 1                 0   \n",
       "1                   0                 0                 1                 0   \n",
       "2                   0                 0                 0                 1   \n",
       "3                   0                 0                 1                 0   \n",
       "4                   0                 0                 1                 0   \n",
       "\n",
       "   age  sex_male  sex_female  cp_typical_angina  cp_atypical_angina  \\\n",
       "0   50         0           1                  0                   0   \n",
       "1   44         1           0                  0                   1   \n",
       "2   70         1           0                  1                   0   \n",
       "3   60         0           1                  1                   0   \n",
       "4   47         1           0                  0                   0   \n",
       "\n",
       "   cp_non_anginal_pain  ...  thal_normal  thal_reversable_defect  \\\n",
       "0                    1  ...            0                       1   \n",
       "1                    0  ...            0                       1   \n",
       "2                    0  ...            0                       1   \n",
       "3                    0  ...            1                       0   \n",
       "4                    1  ...            0                       1   \n",
       "\n",
       "   thal_fixed_defect  trestbps  chol  restecg  thalach  oldpeak   ca  target  \n",
       "0                  0       120   219        1      158      1.6  0.0       1  \n",
       "1                  0       130   219        0      188      0.0  0.0       1  \n",
       "2                  0       130   322        0      109      2.4  3.0       0  \n",
       "3                  0       150   258        0      157      2.6  2.0       0  \n",
       "4                  0       138   257        0      156      0.0  0.0       1  \n",
       "\n",
       "[5 rows x 28 columns]"
      ]
     },
     "metadata": {},
     "output_type": "display_data"
    }
   ],
   "source": [
    "# Get serving function\n",
    "serving_fn = project.get_function(\"serving\")\n",
    "model_name = \"model\"\n",
    "\n",
    "# Get test set\n",
    "df = project.get_artifact(\"train_test_set\").to_dataitem().as_df()\n",
    "display(df.head())\n",
    "\n",
    "# Transform to list\n",
    "# Get training set as list\n",
    "data = df.drop(\"target\", axis=1).to_dict(orient=\"split\")[\"data\"]"
   ]
  },
  {
   "cell_type": "code",
   "execution_count": 37,
   "metadata": {},
   "outputs": [
    {
     "data": {
      "application/vnd.jupyter.widget-view+json": {
       "model_id": "b9e5e779304442a08731bb18c07a3ac4",
       "version_major": 2,
       "version_minor": 0
      },
      "text/plain": [
       "  0%|          | 0/12000 [00:00<?, ?it/s]"
      ]
     },
     "metadata": {},
     "output_type": "display_data"
    }
   ],
   "source": [
    "import json\n",
    "import logging\n",
    "from random import choice\n",
    "\n",
    "from tqdm.notebook import tqdm\n",
    "\n",
    "# Suppress print messages\n",
    "logging.getLogger(name=\"mlrun\").setLevel(logging.WARNING)\n",
    "\n",
    "# Simulate traffic using random elements from training set\n",
    "for i in tqdm(range(12_000)):\n",
    "    data_point = choice(data)\n",
    "    resp = serving_fn.invoke(\n",
    "        f\"v2/models/{model_name}/infer\", json.dumps({\"inputs\": [data_point]})\n",
    "    )\n",
    "\n",
    "# Resume normal logging\n",
    "logging.getLogger(name=\"mlrun\").setLevel(logging.INFO)"
   ]
  },
  {
   "cell_type": "markdown",
   "metadata": {
    "jp-MarkdownHeadingCollapsed": true,
    "tags": []
   },
   "source": [
    "## 4. Re-Training Flow via CI/CD"
   ]
  },
  {
   "cell_type": "markdown",
   "metadata": {},
   "source": [
    "![](docs/gitops-flow.png)"
   ]
  },
  {
   "cell_type": "markdown",
   "metadata": {},
   "source": [
    "### Simulate Drift Event"
   ]
  },
  {
   "cell_type": "code",
   "execution_count": 38,
   "metadata": {},
   "outputs": [],
   "source": [
    "import json\n",
    "import v3io.dataplane"
   ]
  },
  {
   "cell_type": "code",
   "execution_count": 39,
   "metadata": {},
   "outputs": [],
   "source": [
    "v3io_client = v3io.dataplane.Client()"
   ]
  },
  {
   "cell_type": "code",
   "execution_count": 40,
   "metadata": {},
   "outputs": [],
   "source": [
    "drift_event = {'endpoint_id': '340c863d748d4bf8e040281b75bc6eb04209fd23', 'drift_status': 'POSSIBLE_DRIFT', 'drift_measure': 0.87}"
   ]
  },
  {
   "cell_type": "code",
   "execution_count": 41,
   "metadata": {},
   "outputs": [
    {
     "data": {
      "text/plain": [
       "<v3io.dataplane.response.Response at 0x7f0fb63bf850>"
      ]
     },
     "execution_count": 41,
     "metadata": {},
     "output_type": "execute_result"
    }
   ],
   "source": [
    "v3io_client.stream.put_records(\n",
    "    container='users',\n",
    "    stream_path=f\"pipelines/{project.name}/model-endpoints/log_stream\",\n",
    "    records=[{'data': json.dumps(drift_event), 'shard_id': 0}]\n",
    ")"
   ]
  }
 ],
 "metadata": {
  "kernelspec": {
   "display_name": "mlrun-extended",
   "language": "python",
   "name": "conda-env-mlrun-extended-py"
  },
  "language_info": {
   "codemirror_mode": {
    "name": "ipython",
    "version": 3
   },
   "file_extension": ".py",
   "mimetype": "text/x-python",
   "name": "python",
   "nbconvert_exporter": "python",
   "pygments_lexer": "ipython3",
   "version": "3.9.16"
  }
 },
 "nbformat": 4,
 "nbformat_minor": 4
}
