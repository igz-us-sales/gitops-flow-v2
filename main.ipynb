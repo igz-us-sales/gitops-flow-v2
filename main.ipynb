{
 "cells": [
  {
   "cell_type": "markdown",
   "metadata": {},
   "source": [
    "# GitOps Flow with MLRun"
   ]
  },
  {
   "cell_type": "markdown",
   "metadata": {
    "jp-MarkdownHeadingCollapsed": true,
    "tags": []
   },
   "source": [
    "## 1. MLRun Function and Project Architecture"
   ]
  },
  {
   "cell_type": "markdown",
   "metadata": {},
   "source": [
    "![](docs/mlrun_function.png)"
   ]
  },
  {
   "cell_type": "markdown",
   "metadata": {},
   "source": [
    "![](docs/mlrun_project.png)"
   ]
  },
  {
   "cell_type": "markdown",
   "metadata": {
    "jp-MarkdownHeadingCollapsed": true,
    "tags": []
   },
   "source": [
    "## 2. Training with Auto-Logging and Custom Model Serving with Explainability"
   ]
  },
  {
   "cell_type": "code",
   "execution_count": 19,
   "metadata": {},
   "outputs": [
    {
     "name": "stdout",
     "output_type": "stream",
     "text": [
      "> 2023-10-16 19:40:04,166 [info] Project loaded successfully: {'project_name': 'gitops-flow-v2'}\n"
     ]
    }
   ],
   "source": [
    "import os\n",
    "from src import create_and_set_project\n",
    "\n",
    "project = create_and_set_project(\n",
    "    name=\"gitops-flow-v2\",\n",
    "    env_file=\"config.env\",\n",
    "    git_source=\"v3io:///bigdata/gitops.zip\",\n",
    ")"
   ]
  },
  {
   "cell_type": "markdown",
   "metadata": {
    "jp-MarkdownHeadingCollapsed": true,
    "tags": []
   },
   "source": [
    "### Train Model with Auto-Logging"
   ]
  },
  {
   "cell_type": "code",
   "execution_count": 3,
   "metadata": {},
   "outputs": [
    {
     "name": "stdout",
     "output_type": "stream",
     "text": [
      "Overwriting ./src/functions/basic_train.py\n"
     ]
    }
   ],
   "source": [
    "%%writefile ./src/functions/basic_train.py\n",
    "\n",
    "import mlrun\n",
    "import pandas as pd\n",
    "from mlrun.frameworks.sklearn import apply_mlrun\n",
    "from sklearn import ensemble\n",
    "from sklearn.model_selection import train_test_split\n",
    "\n",
    "\n",
    "@mlrun.handler()\n",
    "def train_model(context, dataset: pd.DataFrame, label_column: str):\n",
    "    # Initialize our dataframes\n",
    "    X = dataset.drop(label_column, axis=1)\n",
    "    y = dataset[label_column]\n",
    "\n",
    "    # Train/Test split Iris data-set\n",
    "    X_train, X_test, y_train, y_test = train_test_split(\n",
    "        X, y, test_size=0.2, random_state=42\n",
    "    )\n",
    "\n",
    "    # Pick an ideal ML model\n",
    "    model = ensemble.RandomForestClassifier()\n",
    "\n",
    "    # Wrap our model with Mlrun features, specify the test dataset for analysis and accuracy measurements\n",
    "    #######################################################################\n",
    "    apply_mlrun(model, model_name=\"my_model\", x_test=X_test, y_test=y_test)\n",
    "    #######################################################################\n",
    "\n",
    "    # Train our model\n",
    "    model.fit(X_train, y_train)\n"
   ]
  },
  {
   "cell_type": "code",
   "execution_count": 4,
   "metadata": {},
   "outputs": [],
   "source": [
    "train_fn = project.set_function(\n",
    "    name='basic-train',\n",
    "    func='src/functions/basic_train.py',\n",
    "    kind='job',\n",
    "    image='mlrun/mlrun',\n",
    "    handler=\"train_model\"\n",
    ")"
   ]
  },
  {
   "cell_type": "code",
   "execution_count": 5,
   "metadata": {},
   "outputs": [
    {
     "name": "stdout",
     "output_type": "stream",
     "text": [
      "> 2023-10-16 19:24:56,975 [info] Storing function: {'name': 'basic-train-train-model', 'uid': '13ecf15098f242868716fb1aaf9cce9b', 'db': 'http://mlrun-api:8080'}\n",
      "> 2023-10-16 19:24:57,286 [info] Job is running in the background, pod: basic-train-train-model-8f4l2\n",
      "final state: completed\n"
     ]
    },
    {
     "data": {
      "text/html": [
       "<style>\n",
       ".dictlist {\n",
       "  background-color: #4EC64B;\n",
       "  text-align: center;\n",
       "  margin: 4px;\n",
       "  border-radius: 3px; padding: 0px 3px 1px 3px; display: inline-block;}\n",
       ".artifact {\n",
       "  cursor: pointer;\n",
       "  background-color: #4EC64B;\n",
       "  text-align: left;\n",
       "  margin: 4px; border-radius: 3px; padding: 0px 3px 1px 3px; display: inline-block;\n",
       "}\n",
       "div.block.hidden {\n",
       "  display: none;\n",
       "}\n",
       ".clickable {\n",
       "  cursor: pointer;\n",
       "}\n",
       ".ellipsis {\n",
       "  display: inline-block;\n",
       "  max-width: 60px;\n",
       "  white-space: nowrap;\n",
       "  overflow: hidden;\n",
       "  text-overflow: ellipsis;\n",
       "}\n",
       ".master-wrapper {\n",
       "  display: flex;\n",
       "  flex-flow: row nowrap;\n",
       "  justify-content: flex-start;\n",
       "  align-items: stretch;\n",
       "}\n",
       ".master-tbl {\n",
       "  flex: 3\n",
       "}\n",
       ".master-wrapper > div {\n",
       "  margin: 4px;\n",
       "  padding: 10px;\n",
       "}\n",
       "iframe.fileview {\n",
       "  border: 0 none;\n",
       "  height: 100%;\n",
       "  width: 100%;\n",
       "  white-space: pre-wrap;\n",
       "}\n",
       ".pane-header-title {\n",
       "  width: 80%;\n",
       "  font-weight: 500;\n",
       "}\n",
       ".pane-header {\n",
       "  line-height: 1;\n",
       "  background-color: #4EC64B;\n",
       "  padding: 3px;\n",
       "}\n",
       ".pane-header .close {\n",
       "  font-size: 20px;\n",
       "  font-weight: 700;\n",
       "  float: right;\n",
       "  margin-top: -5px;\n",
       "}\n",
       ".master-wrapper .right-pane {\n",
       "  border: 1px inset silver;\n",
       "  width: 40%;\n",
       "  min-height: 300px;\n",
       "  flex: 3\n",
       "  min-width: 500px;\n",
       "}\n",
       ".master-wrapper * {\n",
       "  box-sizing: border-box;\n",
       "}\n",
       "</style><script>\n",
       "function copyToClipboard(fld) {\n",
       "    if (document.queryCommandSupported && document.queryCommandSupported('copy')) {\n",
       "        var textarea = document.createElement('textarea');\n",
       "        textarea.textContent = fld.innerHTML;\n",
       "        textarea.style.position = 'fixed';\n",
       "        document.body.appendChild(textarea);\n",
       "        textarea.select();\n",
       "\n",
       "        try {\n",
       "            return document.execCommand('copy'); // Security exception may be thrown by some browsers.\n",
       "        } catch (ex) {\n",
       "\n",
       "        } finally {\n",
       "            document.body.removeChild(textarea);\n",
       "        }\n",
       "    }\n",
       "}\n",
       "function expandPanel(el) {\n",
       "  const panelName = \"#\" + el.getAttribute('paneName');\n",
       "  console.log(el.title);\n",
       "\n",
       "  document.querySelector(panelName + \"-title\").innerHTML = el.title\n",
       "  iframe = document.querySelector(panelName + \"-body\");\n",
       "\n",
       "  const tblcss = `<style> body { font-family: Arial, Helvetica, sans-serif;}\n",
       "    #csv { margin-bottom: 15px; }\n",
       "    #csv table { border-collapse: collapse;}\n",
       "    #csv table td { padding: 4px 8px; border: 1px solid silver;} </style>`;\n",
       "\n",
       "  function csvToHtmlTable(str) {\n",
       "    return '<div id=\"csv\"><table><tr><td>' +  str.replace(/[\\n\\r]+$/g, '').replace(/[\\n\\r]+/g, '</td></tr><tr><td>')\n",
       "      .replace(/,/g, '</td><td>') + '</td></tr></table></div>';\n",
       "  }\n",
       "\n",
       "  function reqListener () {\n",
       "    if (el.title.endsWith(\".csv\")) {\n",
       "      iframe.setAttribute(\"srcdoc\", tblcss + csvToHtmlTable(this.responseText));\n",
       "    } else {\n",
       "      iframe.setAttribute(\"srcdoc\", this.responseText);\n",
       "    }\n",
       "    console.log(this.responseText);\n",
       "  }\n",
       "\n",
       "  const oReq = new XMLHttpRequest();\n",
       "  oReq.addEventListener(\"load\", reqListener);\n",
       "  oReq.open(\"GET\", el.title);\n",
       "  oReq.send();\n",
       "\n",
       "\n",
       "  //iframe.src = el.title;\n",
       "  const resultPane = document.querySelector(panelName + \"-pane\");\n",
       "  if (resultPane.classList.contains(\"hidden\")) {\n",
       "    resultPane.classList.remove(\"hidden\");\n",
       "  }\n",
       "}\n",
       "function closePanel(el) {\n",
       "  const panelName = \"#\" + el.getAttribute('paneName')\n",
       "  const resultPane = document.querySelector(panelName + \"-pane\");\n",
       "  if (!resultPane.classList.contains(\"hidden\")) {\n",
       "    resultPane.classList.add(\"hidden\");\n",
       "  }\n",
       "}\n",
       "\n",
       "</script>\n",
       "<div class=\"master-wrapper\">\n",
       "  <div class=\"block master-tbl\"><div>\n",
       "<style scoped>\n",
       "    .dataframe tbody tr th:only-of-type {\n",
       "        vertical-align: middle;\n",
       "    }\n",
       "\n",
       "    .dataframe tbody tr th {\n",
       "        vertical-align: top;\n",
       "    }\n",
       "\n",
       "    .dataframe thead th {\n",
       "        text-align: right;\n",
       "    }\n",
       "</style>\n",
       "<table border=\"1\" class=\"dataframe\">\n",
       "  <thead>\n",
       "    <tr style=\"text-align: right;\">\n",
       "      <th>project</th>\n",
       "      <th>uid</th>\n",
       "      <th>iter</th>\n",
       "      <th>start</th>\n",
       "      <th>state</th>\n",
       "      <th>name</th>\n",
       "      <th>labels</th>\n",
       "      <th>inputs</th>\n",
       "      <th>parameters</th>\n",
       "      <th>results</th>\n",
       "      <th>artifacts</th>\n",
       "    </tr>\n",
       "  </thead>\n",
       "  <tbody>\n",
       "    <tr>\n",
       "      <td>gitops-flow-v2</td>\n",
       "      <td><div title=\"13ecf15098f242868716fb1aaf9cce9b\"><a href=\"https://dashboard.default-tenant.app.cst-354.iguazio-cd2.com/mlprojects/gitops-flow-v2/jobs/monitor/13ecf15098f242868716fb1aaf9cce9b/overview\" target=\"_blank\" >...af9cce9b</a></div></td>\n",
       "      <td>0</td>\n",
       "      <td>Oct 16 19:25:02</td>\n",
       "      <td>completed</td>\n",
       "      <td>basic-train-train-model</td>\n",
       "      <td><div class=\"dictlist\">v3io_user=nick</div><div class=\"dictlist\">kind=job</div><div class=\"dictlist\">owner=nick</div><div class=\"dictlist\">mlrun/client_version=1.4.1</div><div class=\"dictlist\">mlrun/client_python_version=3.9.16</div><div class=\"dictlist\">host=basic-train-train-model-8f4l2</div></td>\n",
       "      <td><div title=\"https://s3.wasabisys.com/iguazio/data/model-monitoring/iris_dataset.csv\">dataset</div><div title=\"/User/gitops-flow-v2/label\">label_column</div></td>\n",
       "      <td></td>\n",
       "      <td><div class=\"dictlist\">accuracy=1.0</div><div class=\"dictlist\">f1_score=1.0</div><div class=\"dictlist\">precision_score=1.0</div><div class=\"dictlist\">recall_score=1.0</div><div class=\"dictlist\">auc-micro=1.0</div><div class=\"dictlist\">auc-macro=1.0</div><div class=\"dictlist\">auc-weighted=1.0</div></td>\n",
       "      <td><div class=\"artifact\" onclick=\"expandPanel(this)\" paneName=\"result44665a6e\" title=\"files/v3io/projects/gitops-flow-v2/artifacts/basic-train-train-model/0/feature-importance.html\">feature-importance</div><div title=\"v3io:///projects/gitops-flow-v2/artifacts/basic-train-train-model/0/test_set.parquet\">test_set</div><div class=\"artifact\" onclick=\"expandPanel(this)\" paneName=\"result44665a6e\" title=\"files/v3io/projects/gitops-flow-v2/artifacts/basic-train-train-model/0/confusion-matrix.html\">confusion-matrix</div><div class=\"artifact\" onclick=\"expandPanel(this)\" paneName=\"result44665a6e\" title=\"files/v3io/projects/gitops-flow-v2/artifacts/basic-train-train-model/0/roc-curves.html\">roc-curves</div><div title=\"v3io:///projects/gitops-flow-v2/artifacts/basic-train-train-model/0/model/\">model</div></td>\n",
       "    </tr>\n",
       "  </tbody>\n",
       "</table>\n",
       "</div></div>\n",
       "  <div id=\"result44665a6e-pane\" class=\"right-pane block hidden\">\n",
       "    <div class=\"pane-header\">\n",
       "      <span id=\"result44665a6e-title\" class=\"pane-header-title\">Title</span>\n",
       "      <span onclick=\"closePanel(this)\" paneName=\"result44665a6e\" class=\"close clickable\">&times;</span>\n",
       "    </div>\n",
       "    <iframe class=\"fileview\" id=\"result44665a6e-body\"></iframe>\n",
       "  </div>\n",
       "</div>\n"
      ],
      "text/plain": [
       "<IPython.core.display.HTML object>"
      ]
     },
     "metadata": {},
     "output_type": "display_data"
    },
    {
     "name": "stdout",
     "output_type": "stream",
     "text": [
      "\n"
     ]
    },
    {
     "data": {
      "text/html": [
       "<b> > to track results use the .show() or .logs() methods  or <a href=\"https://dashboard.default-tenant.app.cst-354.iguazio-cd2.com/mlprojects/gitops-flow-v2/jobs/monitor/13ecf15098f242868716fb1aaf9cce9b/overview\" target=\"_blank\">click here</a> to open in UI</b>"
      ],
      "text/plain": [
       "<IPython.core.display.HTML object>"
      ]
     },
     "metadata": {},
     "output_type": "display_data"
    },
    {
     "name": "stdout",
     "output_type": "stream",
     "text": [
      "> 2023-10-16 19:25:10,399 [info] Run execution finished: {'status': 'completed', 'name': 'basic-train-train-model'}\n"
     ]
    }
   ],
   "source": [
    "training_run = project.run_function(\n",
    "    train_fn,\n",
    "    inputs={\n",
    "        \"dataset\" : \"https://s3.wasabisys.com/iguazio/data/model-monitoring/iris_dataset.csv\",\n",
    "        \"label_column\" : \"label\"\n",
    "    }\n",
    ")"
   ]
  },
  {
   "cell_type": "code",
   "execution_count": 6,
   "metadata": {},
   "outputs": [
    {
     "data": {
      "text/plain": [
       "{'accuracy': 1.0,\n",
       " 'f1_score': 1.0,\n",
       " 'precision_score': 1.0,\n",
       " 'recall_score': 1.0,\n",
       " 'auc-micro': 1.0,\n",
       " 'auc-macro': 1.0,\n",
       " 'auc-weighted': 1.0,\n",
       " 'feature-importance': 'v3io:///projects/gitops-flow-v2/artifacts/basic-train-train-model/0/feature-importance.html',\n",
       " 'test_set': 'store://artifacts/gitops-flow-v2/basic-train-train-model_test_set:13ecf15098f242868716fb1aaf9cce9b',\n",
       " 'confusion-matrix': 'v3io:///projects/gitops-flow-v2/artifacts/basic-train-train-model/0/confusion-matrix.html',\n",
       " 'roc-curves': 'v3io:///projects/gitops-flow-v2/artifacts/basic-train-train-model/0/roc-curves.html',\n",
       " 'model': 'store://artifacts/gitops-flow-v2/my_model:13ecf15098f242868716fb1aaf9cce9b'}"
      ]
     },
     "execution_count": 6,
     "metadata": {},
     "output_type": "execute_result"
    }
   ],
   "source": [
    "training_run.outputs"
   ]
  },
  {
   "cell_type": "markdown",
   "metadata": {
    "jp-MarkdownHeadingCollapsed": true,
    "tags": []
   },
   "source": [
    "### Deploy Model with Explainability"
   ]
  },
  {
   "cell_type": "code",
   "execution_count": 7,
   "metadata": {},
   "outputs": [
    {
     "name": "stdout",
     "output_type": "stream",
     "text": [
      "Overwriting src/functions/shap_serve.py\n"
     ]
    }
   ],
   "source": [
    "%%writefile src/functions/shap_serve.py\n",
    "\n",
    "import mlrun\n",
    "\n",
    "from cloudpickle import load\n",
    "from typing import List\n",
    "import numpy as np\n",
    "import shap\n",
    "\n",
    "class ClassifierModelSHAP(mlrun.serving.V2ModelServer):\n",
    "    def load(self):\n",
    "        \"\"\"load and initialize the model and/or other elements\"\"\"\n",
    "        model_file, extra_data = self.get_model(\".pkl\")\n",
    "        self.model = load(open(model_file, \"rb\"))\n",
    "        self.explainer = shap.TreeExplainer(self.model)\n",
    "\n",
    "    def predict(self, body: dict) -> List:\n",
    "        \"\"\"Generate model predictions from sample.\"\"\"\n",
    "        feats = np.asarray(body[\"inputs\"])\n",
    "        result: np.ndarray = self.model.predict(feats)\n",
    "        return result.tolist()\n",
    "    \n",
    "    def explain(self, body: dict) -> List:\n",
    "        \"\"\"Generate model explaination from sample\"\"\"\n",
    "        feats = np.asarray(body[\"inputs\"])\n",
    "        result: np.ndarray = self.model.predict(feats)\n",
    "        shap_values = self.explainer.shap_values(feats)\n",
    "        return shap_values[result.argmax()].tolist()"
   ]
  },
  {
   "cell_type": "code",
   "execution_count": 8,
   "metadata": {},
   "outputs": [],
   "source": [
    "custom_serve = project.set_function(\n",
    "    name='custom-serve',\n",
    "    func='src/functions/shap_serve.py',\n",
    "    kind='serving',\n",
    "    image='mlrun/mlrun',\n",
    "    requirements=[\"shap==0.40.0\"]\n",
    ")"
   ]
  },
  {
   "cell_type": "code",
   "execution_count": 9,
   "metadata": {},
   "outputs": [
    {
     "data": {
      "text/plain": [
       "<mlrun.serving.states.TaskStep at 0x7fbc6361bbb0>"
      ]
     },
     "execution_count": 9,
     "metadata": {},
     "output_type": "execute_result"
    }
   ],
   "source": [
    "custom_serve.add_model(key=\"model\", model_path=training_run.outputs[\"model\"], class_name=\"ClassifierModelSHAP\")"
   ]
  },
  {
   "cell_type": "code",
   "execution_count": 10,
   "metadata": {},
   "outputs": [],
   "source": [
    "custom_serve.with_requests(mem=\"1G\", cpu=0.1)\n",
    "custom_serve.with_limits(mem=\"2G\", cpu=0.2)"
   ]
  },
  {
   "cell_type": "code",
   "execution_count": null,
   "metadata": {},
   "outputs": [
    {
     "name": "stdout",
     "output_type": "stream",
     "text": [
      "> 2023-10-16 19:25:10,550 [info] Starting remote function deploy\n",
      "2023-10-16 19:25:10  (info) Deploying function\n",
      "2023-10-16 19:25:10  (info) Building\n",
      "2023-10-16 19:25:10  (info) Staging files and preparing base images\n",
      "2023-10-16 19:25:10  (info) Building processor image\n",
      "2023-10-16 19:26:35  (info) Build complete\n"
     ]
    }
   ],
   "source": [
    "project.deploy_function(custom_serve)"
   ]
  },
  {
   "cell_type": "code",
   "execution_count": 15,
   "metadata": {},
   "outputs": [
    {
     "name": "stdout",
     "output_type": "stream",
     "text": [
      "> 2023-10-16 19:32:27,262 [info] invoking function: {'method': 'POST', 'path': 'http://nuclio-gitops-flow-v2-custom-serve.default-tenant.svc.cluster.local:8080/v2/models/model/predict'}\n"
     ]
    },
    {
     "data": {
      "text/plain": [
       "{'id': 'a084f384-636d-48da-b8c4-3e4e6e8c8840',\n",
       " 'model_name': 'model',\n",
       " 'outputs': [0]}"
      ]
     },
     "execution_count": 15,
     "metadata": {},
     "output_type": "execute_result"
    }
   ],
   "source": [
    "custom_serve.invoke(path=\"/v2/models/model/predict\", body={\"inputs\" : [[5.4, 3.9, 1.7, 0.4]]})"
   ]
  },
  {
   "cell_type": "code",
   "execution_count": 16,
   "metadata": {},
   "outputs": [
    {
     "name": "stdout",
     "output_type": "stream",
     "text": [
      "> 2023-10-16 19:32:28,215 [info] invoking function: {'method': 'POST', 'path': 'http://nuclio-gitops-flow-v2-custom-serve.default-tenant.svc.cluster.local:8080/v2/models/model/explain'}\n"
     ]
    },
    {
     "data": {
      "text/plain": [
       "{'id': '55f96451-edc9-4d23-a62f-3954f337d36d',\n",
       " 'model_name': 'model',\n",
       " 'outputs': [[0.0633953634380398,\n",
       "   0.01699431317417788,\n",
       "   0.26055699179724034,\n",
       "   0.3289699982572086]]}"
      ]
     },
     "execution_count": 16,
     "metadata": {},
     "output_type": "execute_result"
    }
   ],
   "source": [
    "custom_serve.invoke(path=\"/v2/models/model/explain\", body={\"inputs\" : [[5.4, 3.9, 1.7, 0.4]]})"
   ]
  },
  {
   "cell_type": "markdown",
   "metadata": {
    "tags": []
   },
   "source": [
    "## 3. End to End Operational Pipelines for Training, Deployment, and Model Monitoring"
   ]
  },
  {
   "cell_type": "markdown",
   "metadata": {
    "jp-MarkdownHeadingCollapsed": true,
    "tags": []
   },
   "source": [
    "### Feature Store Ingestion (Optional)"
   ]
  },
  {
   "cell_type": "code",
   "execution_count": 3,
   "metadata": {},
   "outputs": [],
   "source": [
    "import mlrun\n",
    "import mlrun.feature_store as fstore\n",
    "from mlrun.feature_store.steps import MapValues, OneHotEncoder\n",
    "from mlrun.datastore.sources import ParquetSource, DataFrameSource, CSVSource\n",
    "import pandas as pd\n",
    "import os\n",
    "import yaml\n",
    "import psycopg2\n",
    "from sqlalchemy.engine import create_engine\n",
    "from mlrun.datastore.targets import ParquetTarget\n",
    "\n",
    "data_path = \"data\""
   ]
  },
  {
   "cell_type": "markdown",
   "metadata": {},
   "source": [
    "#### Ingest from local parquet file"
   ]
  },
  {
   "cell_type": "code",
   "execution_count": 4,
   "metadata": {},
   "outputs": [],
   "source": [
    "heart_disease_target_set = fstore.FeatureSet(\n",
    "    name=\"heart_disease_target\",\n",
    "    entities=[fstore.Entity(\"patient_id\")]\n",
    ")\n",
    "\n",
    "resp = fstore.ingest(\n",
    "    featureset=heart_disease_target_set,\n",
    "    source=ParquetSource(path=f\"{data_path}/heart_disease_target.parquet\")\n",
    ")"
   ]
  },
  {
   "cell_type": "markdown",
   "metadata": {
    "tags": []
   },
   "source": [
    "#### Ingest from External DB (PostgreSQL)"
   ]
  },
  {
   "cell_type": "code",
   "execution_count": 5,
   "metadata": {},
   "outputs": [],
   "source": [
    "engine = create_engine(os.getenv(\"POSTGRESQL_DB\"))\n",
    "postgresql_df = pd.read_sql('select * from heart_disease_continuous', engine)\n",
    "\n",
    "heart_disease_continuous_set = fstore.FeatureSet(\n",
    "    name=\"heart_disease_continuous\",\n",
    "    entities=[fstore.Entity(\"patient_id\")]\n",
    ")\n",
    "\n",
    "resp = fstore.ingest(\n",
    "    featureset=heart_disease_continuous_set,\n",
    "    source=DataFrameSource(df=postgresql_df)\n",
    ")"
   ]
  },
  {
   "cell_type": "markdown",
   "metadata": {
    "tags": []
   },
   "source": [
    "#### Ingest CSV from S3 with data transformations"
   ]
  },
  {
   "cell_type": "code",
   "execution_count": 6,
   "metadata": {},
   "outputs": [
    {
     "data": {
      "image/svg+xml": [
       "<?xml version=\"1.0\" encoding=\"UTF-8\" standalone=\"no\"?>\n",
       "<!DOCTYPE svg PUBLIC \"-//W3C//DTD SVG 1.1//EN\"\n",
       " \"http://www.w3.org/Graphics/SVG/1.1/DTD/svg11.dtd\">\n",
       "<!-- Generated by graphviz version 2.43.0 (0)\n",
       " -->\n",
       "<!-- Title: mlrun&#45;flow Pages: 1 -->\n",
       "<svg width=\"553pt\" height=\"98pt\"\n",
       " viewBox=\"0.00 0.00 553.37 98.00\" xmlns=\"http://www.w3.org/2000/svg\" xmlns:xlink=\"http://www.w3.org/1999/xlink\">\n",
       "<g id=\"graph0\" class=\"graph\" transform=\"scale(1 1) rotate(0) translate(4 94)\">\n",
       "<title>mlrun&#45;flow</title>\n",
       "<polygon fill=\"white\" stroke=\"transparent\" points=\"-4,4 -4,-94 549.37,-94 549.37,4 -4,4\"/>\n",
       "<!-- _start -->\n",
       "<g id=\"node1\" class=\"node\">\n",
       "<title>_start</title>\n",
       "<polygon fill=\"lightgrey\" stroke=\"black\" points=\"38.55,-27.05 40.7,-27.15 42.83,-27.3 44.92,-27.49 46.98,-27.74 48.99,-28.03 50.95,-28.36 52.84,-28.75 54.66,-29.18 56.4,-29.65 58.06,-30.16 59.63,-30.71 61.11,-31.31 62.49,-31.94 63.76,-32.61 64.93,-33.31 65.99,-34.04 66.93,-34.8 67.77,-35.59 68.48,-36.41 69.09,-37.25 69.58,-38.11 69.95,-38.99 70.21,-39.89 70.36,-40.8 70.4,-41.72 70.33,-42.65 70.16,-43.59 69.89,-44.53 69.53,-45.47 69.07,-46.41 68.52,-47.35 67.89,-48.28 67.18,-49.2 66.4,-50.11 65.55,-51.01 64.63,-51.89 63.65,-52.75 62.62,-53.59 61.53,-54.41 60.4,-55.2 59.23,-55.96 58.02,-56.69 56.78,-57.39 55.5,-58.06 54.2,-58.69 52.88,-59.29 51.53,-59.84 50.17,-60.35 48.79,-60.82 47.4,-61.25 46,-61.64 44.59,-61.97 43.17,-62.26 41.75,-62.51 40.32,-62.7 38.89,-62.85 37.45,-62.95 36.02,-63 34.58,-63 33.15,-62.95 31.71,-62.85 30.28,-62.7 28.85,-62.51 27.43,-62.26 26.01,-61.97 24.6,-61.64 23.2,-61.25 21.81,-60.82 20.43,-60.35 19.07,-59.84 17.72,-59.29 16.4,-58.69 15.1,-58.06 13.82,-57.39 12.58,-56.69 11.37,-55.96 10.2,-55.2 9.07,-54.41 7.98,-53.59 6.95,-52.75 5.97,-51.89 5.05,-51.01 4.2,-50.11 3.42,-49.2 2.71,-48.28 2.08,-47.35 1.53,-46.41 1.07,-45.47 0.71,-44.53 0.44,-43.59 0.27,-42.65 0.2,-41.72 0.24,-40.8 0.39,-39.89 0.65,-38.99 1.02,-38.11 1.51,-37.25 2.11,-36.41 2.83,-35.59 3.66,-34.8 4.61,-34.04 5.67,-33.31 6.84,-32.61 8.11,-31.94 9.49,-31.31 10.97,-30.71 12.54,-30.16 14.2,-29.65 15.94,-29.18 17.76,-28.75 19.65,-28.36 21.61,-28.03 23.62,-27.74 25.68,-27.49 27.77,-27.3 29.9,-27.15 32.05,-27.05 34.22,-27 36.38,-27 38.55,-27.05\"/>\n",
       "<text text-anchor=\"middle\" x=\"35.3\" y=\"-41.3\" font-family=\"Times,serif\" font-size=\"14.00\">start</text>\n",
       "</g>\n",
       "<!-- MapValues -->\n",
       "<g id=\"node2\" class=\"node\">\n",
       "<title>MapValues</title>\n",
       "<ellipse fill=\"none\" stroke=\"black\" cx=\"168.34\" cy=\"-45\" rx=\"61.99\" ry=\"18\"/>\n",
       "<text text-anchor=\"middle\" x=\"168.34\" y=\"-41.3\" font-family=\"Times,serif\" font-size=\"14.00\">MapValues</text>\n",
       "</g>\n",
       "<!-- _start&#45;&gt;MapValues -->\n",
       "<g id=\"edge1\" class=\"edge\">\n",
       "<title>_start&#45;&gt;MapValues</title>\n",
       "<path fill=\"none\" stroke=\"black\" d=\"M70.05,-45C78.23,-45 87.29,-45 96.49,-45\"/>\n",
       "<polygon fill=\"black\" stroke=\"black\" points=\"96.5,-48.5 106.5,-45 96.5,-41.5 96.5,-48.5\"/>\n",
       "</g>\n",
       "<!-- OneHotEncoder -->\n",
       "<g id=\"node3\" class=\"node\">\n",
       "<title>OneHotEncoder</title>\n",
       "<ellipse fill=\"none\" stroke=\"black\" cx=\"351.23\" cy=\"-45\" rx=\"85.29\" ry=\"18\"/>\n",
       "<text text-anchor=\"middle\" x=\"351.23\" y=\"-41.3\" font-family=\"Times,serif\" font-size=\"14.00\">OneHotEncoder</text>\n",
       "</g>\n",
       "<!-- MapValues&#45;&gt;OneHotEncoder -->\n",
       "<g id=\"edge2\" class=\"edge\">\n",
       "<title>MapValues&#45;&gt;OneHotEncoder</title>\n",
       "<path fill=\"none\" stroke=\"black\" d=\"M230.33,-45C238.59,-45 247.21,-45 255.88,-45\"/>\n",
       "<polygon fill=\"black\" stroke=\"black\" points=\"256.07,-48.5 266.07,-45 256.07,-41.5 256.07,-48.5\"/>\n",
       "</g>\n",
       "<!-- parquet/parquet -->\n",
       "<g id=\"node4\" class=\"node\">\n",
       "<title>parquet/parquet</title>\n",
       "<path fill=\"none\" stroke=\"black\" d=\"M545.37,-86.73C545.37,-88.53 529.01,-90 508.87,-90 488.73,-90 472.37,-88.53 472.37,-86.73 472.37,-86.73 472.37,-57.27 472.37,-57.27 472.37,-55.47 488.73,-54 508.87,-54 529.01,-54 545.37,-55.47 545.37,-57.27 545.37,-57.27 545.37,-86.73 545.37,-86.73\"/>\n",
       "<path fill=\"none\" stroke=\"black\" d=\"M545.37,-86.73C545.37,-84.92 529.01,-83.45 508.87,-83.45 488.73,-83.45 472.37,-84.92 472.37,-86.73\"/>\n",
       "<text text-anchor=\"middle\" x=\"508.87\" y=\"-68.3\" font-family=\"Times,serif\" font-size=\"14.00\">parquet</text>\n",
       "</g>\n",
       "<!-- OneHotEncoder&#45;&gt;parquet/parquet -->\n",
       "<g id=\"edge3\" class=\"edge\">\n",
       "<title>OneHotEncoder&#45;&gt;parquet/parquet</title>\n",
       "<path fill=\"none\" stroke=\"black\" d=\"M417.79,-56.37C432.62,-58.94 448.05,-61.62 461.88,-64.02\"/>\n",
       "<polygon fill=\"black\" stroke=\"black\" points=\"461.64,-67.53 472.09,-65.79 462.84,-60.64 461.64,-67.53\"/>\n",
       "</g>\n",
       "<!-- nosql/nosql -->\n",
       "<g id=\"node5\" class=\"node\">\n",
       "<title>nosql/nosql</title>\n",
       "<path fill=\"none\" stroke=\"black\" d=\"M536.37,-32.73C536.37,-34.53 524.05,-36 508.87,-36 493.7,-36 481.37,-34.53 481.37,-32.73 481.37,-32.73 481.37,-3.27 481.37,-3.27 481.37,-1.47 493.7,0 508.87,0 524.05,0 536.37,-1.47 536.37,-3.27 536.37,-3.27 536.37,-32.73 536.37,-32.73\"/>\n",
       "<path fill=\"none\" stroke=\"black\" d=\"M536.37,-32.73C536.37,-30.92 524.05,-29.45 508.87,-29.45 493.7,-29.45 481.37,-30.92 481.37,-32.73\"/>\n",
       "<text text-anchor=\"middle\" x=\"508.87\" y=\"-14.3\" font-family=\"Times,serif\" font-size=\"14.00\">nosql</text>\n",
       "</g>\n",
       "<!-- OneHotEncoder&#45;&gt;nosql/nosql -->\n",
       "<g id=\"edge4\" class=\"edge\">\n",
       "<title>OneHotEncoder&#45;&gt;nosql/nosql</title>\n",
       "<path fill=\"none\" stroke=\"black\" d=\"M417.79,-33.63C436.05,-30.46 455.24,-27.13 471.19,-24.36\"/>\n",
       "<polygon fill=\"black\" stroke=\"black\" points=\"471.91,-27.79 481.16,-22.63 470.71,-20.89 471.91,-27.79\"/>\n",
       "</g>\n",
       "</g>\n",
       "</svg>\n"
      ],
      "text/plain": [
       "<graphviz.graphs.Digraph at 0x7f5950dcf8b0>"
      ]
     },
     "metadata": {},
     "output_type": "display_data"
    }
   ],
   "source": [
    "heart_disease_categorical = fstore.FeatureSet(\n",
    "    name=\"heart_disease_categorical\",\n",
    "    entities=[fstore.Entity(\"patient_id\")]\n",
    ")\n",
    "\n",
    "age_mapping = {'age': {'ranges': {'toddler': [0, 3], 'child': [3, 18], 'adult': [18, 65], 'elder': [65, 120]}}}\n",
    "\n",
    "one_hot_encoder_mapping = {'age_mapped': ['toddler', 'child', 'adult', 'elder'],\n",
    "                           'sex': ['male', 'female'],\n",
    "                           'cp': ['typical_angina', 'atypical_angina', 'non_anginal_pain', 'asymtomatic'],\n",
    "                           'exang': ['no', 'yes'],\n",
    "                           'fbs': [False, True],\n",
    "                           'slope': ['downsloping', 'upsloping', 'flat'],\n",
    "                           'thal': ['normal', 'reversable_defect', 'fixed_defect']}\n",
    "\n",
    "heart_disease_categorical.graph.to(MapValues(mapping=age_mapping, with_original_features=True))\\\n",
    "                               .to(OneHotEncoder(mapping=one_hot_encoder_mapping))\n",
    "\n",
    "display(heart_disease_categorical.plot(rankdir='LR', with_targets=True))\n",
    "\n",
    "resp = fstore.ingest(\n",
    "    featureset=heart_disease_categorical,\n",
    "    source=CSVSource(path=\"s3://igz-us-sales/heart/heart_disease_categorical.csv\")\n",
    ")"
   ]
  },
  {
   "cell_type": "markdown",
   "metadata": {
    "tags": []
   },
   "source": [
    "#### Create Feature Vector"
   ]
  },
  {
   "cell_type": "code",
   "execution_count": 13,
   "metadata": {},
   "outputs": [
    {
     "data": {
      "text/plain": [
       "'store://feature-vectors/gitops-flow-v2/heart-disease-vec'"
      ]
     },
     "execution_count": 13,
     "metadata": {},
     "output_type": "execute_result"
    }
   ],
   "source": [
    "vector = fstore.FeatureVector(\n",
    "    name=\"heart-disease-vec\",\n",
    "    features=[\n",
    "        \"heart_disease_categorical.*\",\n",
    "        \"heart_disease_continuous.*\"\n",
    "    ],\n",
    "    label_feature=\"heart_disease_target.target\",\n",
    "    with_indexes=False\n",
    ")\n",
    "vector.save()\n",
    "\n",
    "uri = vector.uri\n",
    "uri"
   ]
  },
  {
   "cell_type": "markdown",
   "metadata": {
    "tags": []
   },
   "source": [
    "#### Use Feature Vector for Offline Training"
   ]
  },
  {
   "cell_type": "code",
   "execution_count": 14,
   "metadata": {},
   "outputs": [
    {
     "name": "stdout",
     "output_type": "stream",
     "text": [
      "> 2023-10-16 19:36:05,639 [info] wrote target: {'name': 'parquet', 'kind': 'parquet', 'path': 'v3io:///projects/gitops-flow-v2/FeatureStore/heart-disease-vec/parquet/vectors/heart-disease-vec-latest.parquet', 'status': 'ready', 'updated': '2023-10-16T19:36:05.639376+00:00', 'size': 34786, 'partitioned': True}\n"
     ]
    },
    {
     "data": {
      "text/html": [
       "<div>\n",
       "<style scoped>\n",
       "    .dataframe tbody tr th:only-of-type {\n",
       "        vertical-align: middle;\n",
       "    }\n",
       "\n",
       "    .dataframe tbody tr th {\n",
       "        vertical-align: top;\n",
       "    }\n",
       "\n",
       "    .dataframe thead th {\n",
       "        text-align: right;\n",
       "    }\n",
       "</style>\n",
       "<table border=\"1\" class=\"dataframe\">\n",
       "  <thead>\n",
       "    <tr style=\"text-align: right;\">\n",
       "      <th></th>\n",
       "      <th>age_mapped_toddler</th>\n",
       "      <th>age_mapped_child</th>\n",
       "      <th>age_mapped_adult</th>\n",
       "      <th>age_mapped_elder</th>\n",
       "      <th>age</th>\n",
       "      <th>sex_male</th>\n",
       "      <th>sex_female</th>\n",
       "      <th>cp_typical_angina</th>\n",
       "      <th>cp_atypical_angina</th>\n",
       "      <th>cp_non_anginal_pain</th>\n",
       "      <th>...</th>\n",
       "      <th>thal_normal</th>\n",
       "      <th>thal_reversable_defect</th>\n",
       "      <th>thal_fixed_defect</th>\n",
       "      <th>trestbps</th>\n",
       "      <th>chol</th>\n",
       "      <th>restecg</th>\n",
       "      <th>thalach</th>\n",
       "      <th>oldpeak</th>\n",
       "      <th>ca</th>\n",
       "      <th>target</th>\n",
       "    </tr>\n",
       "  </thead>\n",
       "  <tbody>\n",
       "    <tr>\n",
       "      <th>0</th>\n",
       "      <td>0</td>\n",
       "      <td>0</td>\n",
       "      <td>1</td>\n",
       "      <td>0</td>\n",
       "      <td>52</td>\n",
       "      <td>1</td>\n",
       "      <td>0</td>\n",
       "      <td>1</td>\n",
       "      <td>0</td>\n",
       "      <td>0</td>\n",
       "      <td>...</td>\n",
       "      <td>1</td>\n",
       "      <td>0</td>\n",
       "      <td>0</td>\n",
       "      <td>125</td>\n",
       "      <td>212</td>\n",
       "      <td>1</td>\n",
       "      <td>168</td>\n",
       "      <td>1.0</td>\n",
       "      <td>2.0</td>\n",
       "      <td>0</td>\n",
       "    </tr>\n",
       "    <tr>\n",
       "      <th>1</th>\n",
       "      <td>0</td>\n",
       "      <td>0</td>\n",
       "      <td>1</td>\n",
       "      <td>0</td>\n",
       "      <td>53</td>\n",
       "      <td>1</td>\n",
       "      <td>0</td>\n",
       "      <td>1</td>\n",
       "      <td>0</td>\n",
       "      <td>0</td>\n",
       "      <td>...</td>\n",
       "      <td>1</td>\n",
       "      <td>0</td>\n",
       "      <td>0</td>\n",
       "      <td>140</td>\n",
       "      <td>203</td>\n",
       "      <td>0</td>\n",
       "      <td>155</td>\n",
       "      <td>3.1</td>\n",
       "      <td>0.0</td>\n",
       "      <td>0</td>\n",
       "    </tr>\n",
       "    <tr>\n",
       "      <th>2</th>\n",
       "      <td>0</td>\n",
       "      <td>0</td>\n",
       "      <td>0</td>\n",
       "      <td>1</td>\n",
       "      <td>70</td>\n",
       "      <td>1</td>\n",
       "      <td>0</td>\n",
       "      <td>1</td>\n",
       "      <td>0</td>\n",
       "      <td>0</td>\n",
       "      <td>...</td>\n",
       "      <td>1</td>\n",
       "      <td>0</td>\n",
       "      <td>0</td>\n",
       "      <td>145</td>\n",
       "      <td>174</td>\n",
       "      <td>1</td>\n",
       "      <td>125</td>\n",
       "      <td>2.6</td>\n",
       "      <td>0.0</td>\n",
       "      <td>0</td>\n",
       "    </tr>\n",
       "    <tr>\n",
       "      <th>3</th>\n",
       "      <td>0</td>\n",
       "      <td>0</td>\n",
       "      <td>1</td>\n",
       "      <td>0</td>\n",
       "      <td>61</td>\n",
       "      <td>1</td>\n",
       "      <td>0</td>\n",
       "      <td>1</td>\n",
       "      <td>0</td>\n",
       "      <td>0</td>\n",
       "      <td>...</td>\n",
       "      <td>1</td>\n",
       "      <td>0</td>\n",
       "      <td>0</td>\n",
       "      <td>148</td>\n",
       "      <td>203</td>\n",
       "      <td>1</td>\n",
       "      <td>161</td>\n",
       "      <td>0.0</td>\n",
       "      <td>1.0</td>\n",
       "      <td>0</td>\n",
       "    </tr>\n",
       "    <tr>\n",
       "      <th>4</th>\n",
       "      <td>0</td>\n",
       "      <td>0</td>\n",
       "      <td>1</td>\n",
       "      <td>0</td>\n",
       "      <td>62</td>\n",
       "      <td>0</td>\n",
       "      <td>1</td>\n",
       "      <td>1</td>\n",
       "      <td>0</td>\n",
       "      <td>0</td>\n",
       "      <td>...</td>\n",
       "      <td>0</td>\n",
       "      <td>1</td>\n",
       "      <td>0</td>\n",
       "      <td>138</td>\n",
       "      <td>294</td>\n",
       "      <td>1</td>\n",
       "      <td>106</td>\n",
       "      <td>1.9</td>\n",
       "      <td>3.0</td>\n",
       "      <td>0</td>\n",
       "    </tr>\n",
       "  </tbody>\n",
       "</table>\n",
       "<p>5 rows × 28 columns</p>\n",
       "</div>"
      ],
      "text/plain": [
       "   age_mapped_toddler  age_mapped_child  age_mapped_adult  age_mapped_elder  \\\n",
       "0                   0                 0                 1                 0   \n",
       "1                   0                 0                 1                 0   \n",
       "2                   0                 0                 0                 1   \n",
       "3                   0                 0                 1                 0   \n",
       "4                   0                 0                 1                 0   \n",
       "\n",
       "   age  sex_male  sex_female  cp_typical_angina  cp_atypical_angina  \\\n",
       "0   52         1           0                  1                   0   \n",
       "1   53         1           0                  1                   0   \n",
       "2   70         1           0                  1                   0   \n",
       "3   61         1           0                  1                   0   \n",
       "4   62         0           1                  1                   0   \n",
       "\n",
       "   cp_non_anginal_pain  ...  thal_normal  thal_reversable_defect  \\\n",
       "0                    0  ...            1                       0   \n",
       "1                    0  ...            1                       0   \n",
       "2                    0  ...            1                       0   \n",
       "3                    0  ...            1                       0   \n",
       "4                    0  ...            0                       1   \n",
       "\n",
       "   thal_fixed_defect  trestbps  chol  restecg  thalach  oldpeak   ca  target  \n",
       "0                  0       125   212        1      168      1.0  2.0       0  \n",
       "1                  0       140   203        0      155      3.1  0.0       0  \n",
       "2                  0       145   174        1      125      2.6  0.0       0  \n",
       "3                  0       148   203        1      161      0.0  1.0       0  \n",
       "4                  0       138   294        1      106      1.9  3.0       0  \n",
       "\n",
       "[5 rows x 28 columns]"
      ]
     },
     "execution_count": 14,
     "metadata": {},
     "output_type": "execute_result"
    }
   ],
   "source": [
    "fstore.get_offline_features(feature_vector=uri, target=ParquetTarget()).to_dataframe().head()"
   ]
  },
  {
   "cell_type": "markdown",
   "metadata": {
    "tags": []
   },
   "source": [
    "#### Online Feature Vector for Real-Time Inference"
   ]
  },
  {
   "cell_type": "code",
   "execution_count": 15,
   "metadata": {},
   "outputs": [],
   "source": [
    "feature_service = fstore.get_online_feature_service(uri)"
   ]
  },
  {
   "cell_type": "code",
   "execution_count": 16,
   "metadata": {},
   "outputs": [
    {
     "data": {
      "text/plain": [
       "[{'age_mapped_toddler': 0,\n",
       "  'age_mapped_child': 0,\n",
       "  'age_mapped_adult': 1,\n",
       "  'age_mapped_elder': 0,\n",
       "  'age': 52,\n",
       "  'sex_male': 1,\n",
       "  'sex_female': 0,\n",
       "  'cp_typical_angina': 1,\n",
       "  'cp_atypical_angina': 0,\n",
       "  'cp_non_anginal_pain': 0,\n",
       "  'cp_asymtomatic': 0,\n",
       "  'exang_no': 1,\n",
       "  'exang_yes': 0,\n",
       "  'fbs_False': 1,\n",
       "  'fbs_True': 0,\n",
       "  'slope_downsloping': 1,\n",
       "  'slope_upsloping': 0,\n",
       "  'slope_flat': 0,\n",
       "  'thal_normal': 1,\n",
       "  'thal_reversable_defect': 0,\n",
       "  'thal_fixed_defect': 0,\n",
       "  'trestbps': 125,\n",
       "  'chol': 212,\n",
       "  'restecg': 1,\n",
       "  'thalach': 168,\n",
       "  'oldpeak': 1.0,\n",
       "  'ca': 2.0},\n",
       " {'age_mapped_toddler': 0,\n",
       "  'age_mapped_child': 0,\n",
       "  'age_mapped_adult': 1,\n",
       "  'age_mapped_elder': 0,\n",
       "  'age': 53,\n",
       "  'sex_male': 1,\n",
       "  'sex_female': 0,\n",
       "  'cp_typical_angina': 1,\n",
       "  'cp_atypical_angina': 0,\n",
       "  'cp_non_anginal_pain': 0,\n",
       "  'cp_asymtomatic': 0,\n",
       "  'exang_no': 0,\n",
       "  'exang_yes': 1,\n",
       "  'fbs_False': 0,\n",
       "  'fbs_True': 1,\n",
       "  'slope_downsloping': 0,\n",
       "  'slope_upsloping': 1,\n",
       "  'slope_flat': 0,\n",
       "  'thal_normal': 1,\n",
       "  'thal_reversable_defect': 0,\n",
       "  'thal_fixed_defect': 0,\n",
       "  'trestbps': 140,\n",
       "  'chol': 203,\n",
       "  'restecg': 0,\n",
       "  'thalach': 155,\n",
       "  'oldpeak': 3.1,\n",
       "  'ca': 0.0}]"
      ]
     },
     "execution_count": 16,
     "metadata": {},
     "output_type": "execute_result"
    }
   ],
   "source": [
    "feature_service.get(\n",
    "    [\n",
    "        {\"patient_id\" : \"e443544b-8d9e-4f6c-9623-e24b6139aae0\"},\n",
    "        {\"patient_id\" : \"8227d3df-16ab-4452-8ea5-99472362d982\"}\n",
    "    ]\n",
    ")"
   ]
  },
  {
   "cell_type": "markdown",
   "metadata": {
    "tags": []
   },
   "source": [
    "### Run Training Pipeline"
   ]
  },
  {
   "cell_type": "code",
   "execution_count": 17,
   "metadata": {},
   "outputs": [
    {
     "data": {
      "text/plain": [
       "{'source_url': 'store://feature-vectors/gitops-flow-v2/heart-disease-vec',\n",
       " 'label_column': 'target'}"
      ]
     },
     "execution_count": 17,
     "metadata": {},
     "output_type": "execute_result"
    }
   ],
   "source": [
    "arguments = {\n",
    "    \"source_url\" : uri,\n",
    "    \"label_column\" : \"target\"\n",
    "}\n",
    "arguments"
   ]
  },
  {
   "cell_type": "code",
   "execution_count": 24,
   "metadata": {},
   "outputs": [
    {
     "data": {
      "text/html": [
       "<div>Pipeline running (id=5eecc1dd-5b17-4ead-af7e-51656fff5ece), <a href=\"https://dashboard.default-tenant.app.cst-354.iguazio-cd2.com/mlprojects/gitops-flow-v2/jobs/monitor-workflows/workflow/5eecc1dd-5b17-4ead-af7e-51656fff5ece\" target=\"_blank\"><b>click here</b></a> to view the details in MLRun UI</div>"
      ],
      "text/plain": [
       "<IPython.core.display.HTML object>"
      ]
     },
     "metadata": {},
     "output_type": "display_data"
    },
    {
     "data": {
      "image/svg+xml": [
       "<?xml version=\"1.0\" encoding=\"UTF-8\" standalone=\"no\"?>\n",
       "<!DOCTYPE svg PUBLIC \"-//W3C//DTD SVG 1.1//EN\"\n",
       " \"http://www.w3.org/Graphics/SVG/1.1/DTD/svg11.dtd\">\n",
       "<!-- Generated by graphviz version 2.43.0 (0)\n",
       " -->\n",
       "<!-- Title: kfp Pages: 1 -->\n",
       "<svg width=\"192pt\" height=\"188pt\"\n",
       " viewBox=\"0.00 0.00 192.19 188.00\" xmlns=\"http://www.w3.org/2000/svg\" xmlns:xlink=\"http://www.w3.org/1999/xlink\">\n",
       "<g id=\"graph0\" class=\"graph\" transform=\"scale(1 1) rotate(0) translate(4 184)\">\n",
       "<title>kfp</title>\n",
       "<polygon fill=\"white\" stroke=\"transparent\" points=\"-4,4 -4,-184 188.19,-184 188.19,4 -4,4\"/>\n",
       "<!-- gitops&#45;training&#45;pipeline&#45;s65v2&#45;2488862047 -->\n",
       "<g id=\"node1\" class=\"node\">\n",
       "<title>gitops&#45;training&#45;pipeline&#45;s65v2&#45;2488862047</title>\n",
       "<ellipse fill=\"green\" stroke=\"black\" cx=\"100.05\" cy=\"-162\" rx=\"49.29\" ry=\"18\"/>\n",
       "<text text-anchor=\"middle\" x=\"100.05\" y=\"-158.3\" font-family=\"Times,serif\" font-size=\"14.00\">get&#45;data</text>\n",
       "</g>\n",
       "<!-- gitops&#45;training&#45;pipeline&#45;s65v2&#45;615831909 -->\n",
       "<g id=\"node2\" class=\"node\">\n",
       "<title>gitops&#45;training&#45;pipeline&#45;s65v2&#45;615831909</title>\n",
       "<ellipse fill=\"green\" stroke=\"black\" cx=\"50.05\" cy=\"-90\" rx=\"50.09\" ry=\"18\"/>\n",
       "<text text-anchor=\"middle\" x=\"50.05\" y=\"-86.3\" font-family=\"Times,serif\" font-size=\"14.00\">describe</text>\n",
       "</g>\n",
       "<!-- gitops&#45;training&#45;pipeline&#45;s65v2&#45;2488862047&#45;&gt;gitops&#45;training&#45;pipeline&#45;s65v2&#45;615831909 -->\n",
       "<g id=\"edge1\" class=\"edge\">\n",
       "<title>gitops&#45;training&#45;pipeline&#45;s65v2&#45;2488862047&#45;&gt;gitops&#45;training&#45;pipeline&#45;s65v2&#45;615831909</title>\n",
       "<path fill=\"none\" stroke=\"black\" d=\"M88.2,-144.41C82.18,-135.99 74.75,-125.58 68.05,-116.2\"/>\n",
       "<polygon fill=\"black\" stroke=\"black\" points=\"70.82,-114.06 62.16,-107.96 65.12,-118.13 70.82,-114.06\"/>\n",
       "</g>\n",
       "<!-- gitops&#45;training&#45;pipeline&#45;s65v2&#45;496909054 -->\n",
       "<g id=\"node3\" class=\"node\">\n",
       "<title>gitops&#45;training&#45;pipeline&#45;s65v2&#45;496909054</title>\n",
       "<ellipse fill=\"green\" stroke=\"black\" cx=\"151.05\" cy=\"-90\" rx=\"33.29\" ry=\"18\"/>\n",
       "<text text-anchor=\"middle\" x=\"151.05\" y=\"-86.3\" font-family=\"Times,serif\" font-size=\"14.00\">train</text>\n",
       "</g>\n",
       "<!-- gitops&#45;training&#45;pipeline&#45;s65v2&#45;2488862047&#45;&gt;gitops&#45;training&#45;pipeline&#45;s65v2&#45;496909054 -->\n",
       "<g id=\"edge2\" class=\"edge\">\n",
       "<title>gitops&#45;training&#45;pipeline&#45;s65v2&#45;2488862047&#45;&gt;gitops&#45;training&#45;pipeline&#45;s65v2&#45;496909054</title>\n",
       "<path fill=\"none\" stroke=\"black\" d=\"M112.13,-144.41C118.51,-135.66 126.46,-124.75 133.5,-115.08\"/>\n",
       "<polygon fill=\"black\" stroke=\"black\" points=\"136.34,-117.13 139.4,-106.99 130.68,-113.01 136.34,-117.13\"/>\n",
       "</g>\n",
       "<!-- gitops&#45;training&#45;pipeline&#45;s65v2&#45;2510464672 -->\n",
       "<g id=\"node4\" class=\"node\">\n",
       "<title>gitops&#45;training&#45;pipeline&#45;s65v2&#45;2510464672</title>\n",
       "<ellipse fill=\"green\" stroke=\"black\" cx=\"151.05\" cy=\"-18\" rx=\"28.7\" ry=\"18\"/>\n",
       "<text text-anchor=\"middle\" x=\"151.05\" y=\"-14.3\" font-family=\"Times,serif\" font-size=\"14.00\">test</text>\n",
       "</g>\n",
       "<!-- gitops&#45;training&#45;pipeline&#45;s65v2&#45;496909054&#45;&gt;gitops&#45;training&#45;pipeline&#45;s65v2&#45;2510464672 -->\n",
       "<g id=\"edge3\" class=\"edge\">\n",
       "<title>gitops&#45;training&#45;pipeline&#45;s65v2&#45;496909054&#45;&gt;gitops&#45;training&#45;pipeline&#45;s65v2&#45;2510464672</title>\n",
       "<path fill=\"none\" stroke=\"black\" d=\"M151.05,-71.7C151.05,-63.98 151.05,-54.71 151.05,-46.11\"/>\n",
       "<polygon fill=\"black\" stroke=\"black\" points=\"154.55,-46.1 151.05,-36.1 147.55,-46.1 154.55,-46.1\"/>\n",
       "</g>\n",
       "</g>\n",
       "</svg>\n"
      ],
      "text/plain": [
       "<graphviz.graphs.Digraph at 0x7f591d0d4880>"
      ]
     },
     "metadata": {},
     "output_type": "display_data"
    },
    {
     "data": {
      "text/html": [
       "<h2>Run Results</h2><h3>[info] Workflow 5eecc1dd-5b17-4ead-af7e-51656fff5ece finished, state=Succeeded</h3><br>click the hyper links below to see detailed results<br><table border=\"1\" class=\"dataframe\">\n",
       "  <thead>\n",
       "    <tr style=\"text-align: right;\">\n",
       "      <th>uid</th>\n",
       "      <th>start</th>\n",
       "      <th>state</th>\n",
       "      <th>name</th>\n",
       "      <th>parameters</th>\n",
       "      <th>results</th>\n",
       "    </tr>\n",
       "  </thead>\n",
       "  <tbody>\n",
       "    <tr>\n",
       "      <td><div title=\"6d7a7ea082f54a57af164cc8b210f6a2\"><a href=\"https://dashboard.default-tenant.app.cst-354.iguazio-cd2.com/mlprojects/gitops-flow-v2/jobs/monitor/6d7a7ea082f54a57af164cc8b210f6a2/overview\" target=\"_blank\" >...b210f6a2</a></div></td>\n",
       "      <td>Oct 16 19:49:28</td>\n",
       "      <td>completed</td>\n",
       "      <td>test</td>\n",
       "      <td><div class=\"dictlist\">label_column=target</div><div class=\"dictlist\">new_model_path=store://artifacts/gitops-flow-v2/model:5eecc1dd-5b17-4ead-af7e-51656fff5ece</div><div class=\"dictlist\">existing_model_path=None</div><div class=\"dictlist\">comparison_metric=accuracy</div><div class=\"dictlist\">post_github=True</div><div class=\"dictlist\">force_deploy=False</div></td>\n",
       "      <td><div class=\"dictlist\">accuracy-new_model=1.0</div><div class=\"dictlist\">test-error-new_model=0.0</div><div class=\"dictlist\">f1-new_model=1.0</div><div class=\"dictlist\">precision-new_model=1.0</div><div class=\"dictlist\">recall-new_model=1.0</div></td>\n",
       "    </tr>\n",
       "    <tr>\n",
       "      <td><div title=\"0994eed303c34315a6cb0c6dd75678a9\"><a href=\"https://dashboard.default-tenant.app.cst-354.iguazio-cd2.com/mlprojects/gitops-flow-v2/jobs/monitor/0994eed303c34315a6cb0c6dd75678a9/overview\" target=\"_blank\" >...d75678a9</a></div></td>\n",
       "      <td>Oct 16 19:48:58</td>\n",
       "      <td>completed</td>\n",
       "      <td>describe</td>\n",
       "      <td><div class=\"dictlist\">label_column=target</div></td>\n",
       "      <td></td>\n",
       "    </tr>\n",
       "    <tr>\n",
       "      <td><div title=\"ba00a242e77c44bdb72c280874a9e108\"><a href=\"https://dashboard.default-tenant.app.cst-354.iguazio-cd2.com/mlprojects/gitops-flow-v2/jobs/monitor/ba00a242e77c44bdb72c280874a9e108/overview\" target=\"_blank\" >...74a9e108</a></div></td>\n",
       "      <td>Oct 16 19:48:58</td>\n",
       "      <td>completed</td>\n",
       "      <td>train</td>\n",
       "      <td><div class=\"dictlist\">label_column=target</div><div class=\"dictlist\">test_size=0.1</div></td>\n",
       "      <td><div class=\"dictlist\">accuracy=1.0</div><div class=\"dictlist\">f1_score=1.0</div><div class=\"dictlist\">precision_score=1.0</div><div class=\"dictlist\">recall_score=1.0</div></td>\n",
       "    </tr>\n",
       "    <tr>\n",
       "      <td><div title=\"f2bd30a7312e483dacd9381e85c2810d\"><a href=\"https://dashboard.default-tenant.app.cst-354.iguazio-cd2.com/mlprojects/gitops-flow-v2/jobs/monitor/f2bd30a7312e483dacd9381e85c2810d/overview\" target=\"_blank\" >...85c2810d</a></div></td>\n",
       "      <td>Oct 16 19:48:31</td>\n",
       "      <td>completed</td>\n",
       "      <td>get-data</td>\n",
       "      <td></td>\n",
       "      <td><div class=\"dictlist\">num_rows=968</div></td>\n",
       "    </tr>\n",
       "  </tbody>\n",
       "</table>"
      ],
      "text/plain": [
       "<IPython.core.display.HTML object>"
      ]
     },
     "metadata": {},
     "output_type": "display_data"
    }
   ],
   "source": [
    "run_id = project.run(\n",
    "    name=\"train\",\n",
    "    arguments=arguments,\n",
    "    dirty=True,\n",
    "    watch=True\n",
    ")"
   ]
  },
  {
   "cell_type": "markdown",
   "metadata": {
    "tags": []
   },
   "source": [
    "### Run Deployment Pipeline"
   ]
  },
  {
   "cell_type": "code",
   "execution_count": 25,
   "metadata": {},
   "outputs": [
    {
     "data": {
      "text/html": [
       "<div>Pipeline running (id=8867f834-4ae5-4a64-bc0c-4c4da0b090e3), <a href=\"https://dashboard.default-tenant.app.cst-354.iguazio-cd2.com/mlprojects/gitops-flow-v2/jobs/monitor-workflows/workflow/8867f834-4ae5-4a64-bc0c-4c4da0b090e3\" target=\"_blank\"><b>click here</b></a> to view the details in MLRun UI</div>"
      ],
      "text/plain": [
       "<IPython.core.display.HTML object>"
      ]
     },
     "metadata": {},
     "output_type": "display_data"
    },
    {
     "data": {
      "image/svg+xml": [
       "<?xml version=\"1.0\" encoding=\"UTF-8\" standalone=\"no\"?>\n",
       "<!DOCTYPE svg PUBLIC \"-//W3C//DTD SVG 1.1//EN\"\n",
       " \"http://www.w3.org/Graphics/SVG/1.1/DTD/svg11.dtd\">\n",
       "<!-- Generated by graphviz version 2.43.0 (0)\n",
       " -->\n",
       "<!-- Title: kfp Pages: 1 -->\n",
       "<svg width=\"366pt\" height=\"188pt\"\n",
       " viewBox=\"0.00 0.00 365.50 188.00\" xmlns=\"http://www.w3.org/2000/svg\" xmlns:xlink=\"http://www.w3.org/1999/xlink\">\n",
       "<g id=\"graph0\" class=\"graph\" transform=\"scale(1 1) rotate(0) translate(4 184)\">\n",
       "<title>kfp</title>\n",
       "<polygon fill=\"white\" stroke=\"transparent\" points=\"-4,4 -4,-184 361.5,-184 361.5,4 -4,4\"/>\n",
       "<!-- gitops&#45;deployment&#45;pipeline&#45;plsrk&#45;2170956124 -->\n",
       "<g id=\"node1\" class=\"node\">\n",
       "<title>gitops&#45;deployment&#45;pipeline&#45;plsrk&#45;2170956124</title>\n",
       "<ellipse fill=\"green\" stroke=\"black\" cx=\"182.5\" cy=\"-162\" rx=\"98.58\" ry=\"18\"/>\n",
       "<text text-anchor=\"middle\" x=\"182.5\" y=\"-158.3\" font-family=\"Times,serif\" font-size=\"14.00\">create&#45;drift&#45;stream</text>\n",
       "</g>\n",
       "<!-- gitops&#45;deployment&#45;pipeline&#45;plsrk&#45;3906662089 -->\n",
       "<g id=\"node2\" class=\"node\">\n",
       "<title>gitops&#45;deployment&#45;pipeline&#45;plsrk&#45;3906662089</title>\n",
       "<polygon fill=\"green\" stroke=\"black\" points=\"243.5,-108 125.5,-108 121.5,-104 121.5,-72 239.5,-72 243.5,-76 243.5,-108\"/>\n",
       "<polyline fill=\"none\" stroke=\"black\" points=\"239.5,-104 121.5,-104 \"/>\n",
       "<polyline fill=\"none\" stroke=\"black\" points=\"239.5,-104 239.5,-72 \"/>\n",
       "<polyline fill=\"none\" stroke=\"black\" points=\"239.5,-104 243.5,-108 \"/>\n",
       "<text text-anchor=\"middle\" x=\"182.5\" y=\"-86.3\" font-family=\"Times,serif\" font-size=\"14.00\">deploy&#45;serving</text>\n",
       "</g>\n",
       "<!-- gitops&#45;deployment&#45;pipeline&#45;plsrk&#45;2170956124&#45;&gt;gitops&#45;deployment&#45;pipeline&#45;plsrk&#45;3906662089 -->\n",
       "<g id=\"edge1\" class=\"edge\">\n",
       "<title>gitops&#45;deployment&#45;pipeline&#45;plsrk&#45;2170956124&#45;&gt;gitops&#45;deployment&#45;pipeline&#45;plsrk&#45;3906662089</title>\n",
       "<path fill=\"none\" stroke=\"black\" d=\"M182.5,-143.7C182.5,-135.98 182.5,-126.71 182.5,-118.11\"/>\n",
       "<polygon fill=\"black\" stroke=\"black\" points=\"186,-118.1 182.5,-108.1 179,-118.1 186,-118.1\"/>\n",
       "</g>\n",
       "<!-- gitops&#45;deployment&#45;pipeline&#45;plsrk&#45;3904016737 -->\n",
       "<g id=\"node3\" class=\"node\">\n",
       "<title>gitops&#45;deployment&#45;pipeline&#45;plsrk&#45;3904016737</title>\n",
       "<polygon fill=\"green\" stroke=\"black\" points=\"177,-36 4,-36 0,-32 0,0 173,0 177,-4 177,-36\"/>\n",
       "<polyline fill=\"none\" stroke=\"black\" points=\"173,-32 0,-32 \"/>\n",
       "<polyline fill=\"none\" stroke=\"black\" points=\"173,-32 173,0 \"/>\n",
       "<polyline fill=\"none\" stroke=\"black\" points=\"173,-32 177,-36 \"/>\n",
       "<text text-anchor=\"middle\" x=\"88.5\" y=\"-14.3\" font-family=\"Times,serif\" font-size=\"14.00\">deploy&#45;simulate&#45;traffic</text>\n",
       "</g>\n",
       "<!-- gitops&#45;deployment&#45;pipeline&#45;plsrk&#45;3906662089&#45;&gt;gitops&#45;deployment&#45;pipeline&#45;plsrk&#45;3904016737 -->\n",
       "<g id=\"edge3\" class=\"edge\">\n",
       "<title>gitops&#45;deployment&#45;pipeline&#45;plsrk&#45;3906662089&#45;&gt;gitops&#45;deployment&#45;pipeline&#45;plsrk&#45;3904016737</title>\n",
       "<path fill=\"none\" stroke=\"black\" d=\"M159.26,-71.7C147.31,-62.8 132.58,-51.82 119.65,-42.2\"/>\n",
       "<polygon fill=\"black\" stroke=\"black\" points=\"121.58,-39.27 111.47,-36.1 117.4,-44.88 121.58,-39.27\"/>\n",
       "</g>\n",
       "<!-- gitops&#45;deployment&#45;pipeline&#45;plsrk&#45;3957059543 -->\n",
       "<g id=\"node4\" class=\"node\">\n",
       "<title>gitops&#45;deployment&#45;pipeline&#45;plsrk&#45;3957059543</title>\n",
       "<polygon fill=\"green\" stroke=\"black\" points=\"357.5,-36 199.5,-36 195.5,-32 195.5,0 353.5,0 357.5,-4 357.5,-36\"/>\n",
       "<polyline fill=\"none\" stroke=\"black\" points=\"353.5,-32 195.5,-32 \"/>\n",
       "<polyline fill=\"none\" stroke=\"black\" points=\"353.5,-32 353.5,0 \"/>\n",
       "<polyline fill=\"none\" stroke=\"black\" points=\"353.5,-32 357.5,-36 \"/>\n",
       "<text text-anchor=\"middle\" x=\"276.5\" y=\"-14.3\" font-family=\"Times,serif\" font-size=\"14.00\">deploy&#45;drift&#45;watcher</text>\n",
       "</g>\n",
       "<!-- gitops&#45;deployment&#45;pipeline&#45;plsrk&#45;3906662089&#45;&gt;gitops&#45;deployment&#45;pipeline&#45;plsrk&#45;3957059543 -->\n",
       "<g id=\"edge2\" class=\"edge\">\n",
       "<title>gitops&#45;deployment&#45;pipeline&#45;plsrk&#45;3906662089&#45;&gt;gitops&#45;deployment&#45;pipeline&#45;plsrk&#45;3957059543</title>\n",
       "<path fill=\"none\" stroke=\"black\" d=\"M205.74,-71.7C217.69,-62.8 232.42,-51.82 245.35,-42.2\"/>\n",
       "<polygon fill=\"black\" stroke=\"black\" points=\"247.6,-44.88 253.53,-36.1 243.42,-39.27 247.6,-44.88\"/>\n",
       "</g>\n",
       "</g>\n",
       "</svg>\n"
      ],
      "text/plain": [
       "<graphviz.graphs.Digraph at 0x7f58bc2ede80>"
      ]
     },
     "metadata": {},
     "output_type": "display_data"
    },
    {
     "data": {
      "text/html": [
       "<h2>Run Results</h2><h3>[info] Workflow 8867f834-4ae5-4a64-bc0c-4c4da0b090e3 finished, state=Succeeded</h3><br>click the hyper links below to see detailed results<br><table border=\"1\" class=\"dataframe\">\n",
       "  <thead>\n",
       "    <tr style=\"text-align: right;\">\n",
       "      <th>uid</th>\n",
       "      <th>start</th>\n",
       "      <th>state</th>\n",
       "      <th>name</th>\n",
       "      <th>parameters</th>\n",
       "      <th>results</th>\n",
       "    </tr>\n",
       "  </thead>\n",
       "  <tbody>\n",
       "    <tr>\n",
       "      <td><div title=\"338533f5e1ba4f1a94f9eca17524f484\"><a href=\"https://dashboard.default-tenant.app.cst-354.iguazio-cd2.com/mlprojects/gitops-flow-v2/jobs/monitor/338533f5e1ba4f1a94f9eca17524f484/overview\" target=\"_blank\" >...7524f484</a></div></td>\n",
       "      <td>Oct 16 19:50:26</td>\n",
       "      <td>completed</td>\n",
       "      <td>create-drift-stream</td>\n",
       "      <td><div class=\"dictlist\">stream_path=pipelines/gitops-flow-v2/model-endpoints/log_stream</div></td>\n",
       "      <td></td>\n",
       "    </tr>\n",
       "  </tbody>\n",
       "</table>"
      ],
      "text/plain": [
       "<IPython.core.display.HTML object>"
      ]
     },
     "metadata": {},
     "output_type": "display_data"
    }
   ],
   "source": [
    "run_id = project.run(\n",
    "    name=\"deploy\",\n",
    "    arguments={\"model_path\": \"store://models/gitops-flow-v2/model#0:latest\"},\n",
    "    dirty=True,\n",
    "    watch=True\n",
    ")"
   ]
  },
  {
   "cell_type": "markdown",
   "metadata": {
    "jp-MarkdownHeadingCollapsed": true,
    "tags": []
   },
   "source": [
    "### Invoke Model"
   ]
  },
  {
   "cell_type": "code",
   "execution_count": 40,
   "metadata": {
    "tags": []
   },
   "outputs": [
    {
     "name": "stdout",
     "output_type": "stream",
     "text": [
      "> 2023-10-17 00:33:46,244 [info] invoking function: {'method': 'POST', 'path': 'http://nuclio-gitops-flow-v2-serving.default-tenant.svc.cluster.local:8080/v2/models/model/infer'}\n"
     ]
    },
    {
     "data": {
      "text/plain": [
       "{'id': 'd7615aca-d050-4fe5-ab5f-8637a0f2a4f1',\n",
       " 'model_name': 'model',\n",
       " 'outputs': [1, 1, 0]}"
      ]
     },
     "execution_count": 40,
     "metadata": {},
     "output_type": "execute_result"
    }
   ],
   "source": [
    "serving_fn = project.get_function(\"serving\")\n",
    "serving_fn.invoke(\n",
    "    path='/v2/models/model/infer',\n",
    "    body={\n",
    "        \"inputs\" : [\n",
    "            [0, 0, 1, 0, 50, 0, 1, 0, 0, 1, 0, 1, 0, 1, 0, 0, 0, 1, 0, 1, 0, 120, 219, 1, 158, 1.6, 0.0],\n",
    "            [0, 0, 1, 0, 44, 1, 0, 0, 1, 0, 0, 1, 0, 1, 0, 1, 0, 0, 0, 1, 0, 130, 219, 0, 188, 0.0, 0.0],\n",
    "            [0, 0, 0, 1, 70, 1, 0, 1, 0, 0, 0, 1, 0, 1, 0, 0, 0, 1, 0, 1, 0, 130, 322, 0, 109, 2.4, 3.0]\n",
    "        ]\n",
    "    }\n",
    ")"
   ]
  },
  {
   "cell_type": "markdown",
   "metadata": {
    "jp-MarkdownHeadingCollapsed": true,
    "tags": []
   },
   "source": [
    "### Simulate Traffic\n",
    "\n",
    "MLRun real-time drift detection requires 10,000 events"
   ]
  },
  {
   "cell_type": "code",
   "execution_count": 27,
   "metadata": {},
   "outputs": [
    {
     "data": {
      "text/html": [
       "<div>\n",
       "<style scoped>\n",
       "    .dataframe tbody tr th:only-of-type {\n",
       "        vertical-align: middle;\n",
       "    }\n",
       "\n",
       "    .dataframe tbody tr th {\n",
       "        vertical-align: top;\n",
       "    }\n",
       "\n",
       "    .dataframe thead th {\n",
       "        text-align: right;\n",
       "    }\n",
       "</style>\n",
       "<table border=\"1\" class=\"dataframe\">\n",
       "  <thead>\n",
       "    <tr style=\"text-align: right;\">\n",
       "      <th></th>\n",
       "      <th>age_mapped_toddler</th>\n",
       "      <th>age_mapped_child</th>\n",
       "      <th>age_mapped_adult</th>\n",
       "      <th>age_mapped_elder</th>\n",
       "      <th>age</th>\n",
       "      <th>sex_male</th>\n",
       "      <th>sex_female</th>\n",
       "      <th>cp_typical_angina</th>\n",
       "      <th>cp_atypical_angina</th>\n",
       "      <th>cp_non_anginal_pain</th>\n",
       "      <th>...</th>\n",
       "      <th>thal_normal</th>\n",
       "      <th>thal_reversable_defect</th>\n",
       "      <th>thal_fixed_defect</th>\n",
       "      <th>trestbps</th>\n",
       "      <th>chol</th>\n",
       "      <th>restecg</th>\n",
       "      <th>thalach</th>\n",
       "      <th>oldpeak</th>\n",
       "      <th>ca</th>\n",
       "      <th>target</th>\n",
       "    </tr>\n",
       "  </thead>\n",
       "  <tbody>\n",
       "    <tr>\n",
       "      <th>0</th>\n",
       "      <td>0</td>\n",
       "      <td>0</td>\n",
       "      <td>1</td>\n",
       "      <td>0</td>\n",
       "      <td>50</td>\n",
       "      <td>0</td>\n",
       "      <td>1</td>\n",
       "      <td>0</td>\n",
       "      <td>0</td>\n",
       "      <td>1</td>\n",
       "      <td>...</td>\n",
       "      <td>0</td>\n",
       "      <td>1</td>\n",
       "      <td>0</td>\n",
       "      <td>120</td>\n",
       "      <td>219</td>\n",
       "      <td>1</td>\n",
       "      <td>158</td>\n",
       "      <td>1.6</td>\n",
       "      <td>0.0</td>\n",
       "      <td>1</td>\n",
       "    </tr>\n",
       "    <tr>\n",
       "      <th>1</th>\n",
       "      <td>0</td>\n",
       "      <td>0</td>\n",
       "      <td>1</td>\n",
       "      <td>0</td>\n",
       "      <td>44</td>\n",
       "      <td>1</td>\n",
       "      <td>0</td>\n",
       "      <td>0</td>\n",
       "      <td>1</td>\n",
       "      <td>0</td>\n",
       "      <td>...</td>\n",
       "      <td>0</td>\n",
       "      <td>1</td>\n",
       "      <td>0</td>\n",
       "      <td>130</td>\n",
       "      <td>219</td>\n",
       "      <td>0</td>\n",
       "      <td>188</td>\n",
       "      <td>0.0</td>\n",
       "      <td>0.0</td>\n",
       "      <td>1</td>\n",
       "    </tr>\n",
       "    <tr>\n",
       "      <th>2</th>\n",
       "      <td>0</td>\n",
       "      <td>0</td>\n",
       "      <td>0</td>\n",
       "      <td>1</td>\n",
       "      <td>70</td>\n",
       "      <td>1</td>\n",
       "      <td>0</td>\n",
       "      <td>1</td>\n",
       "      <td>0</td>\n",
       "      <td>0</td>\n",
       "      <td>...</td>\n",
       "      <td>0</td>\n",
       "      <td>1</td>\n",
       "      <td>0</td>\n",
       "      <td>130</td>\n",
       "      <td>322</td>\n",
       "      <td>0</td>\n",
       "      <td>109</td>\n",
       "      <td>2.4</td>\n",
       "      <td>3.0</td>\n",
       "      <td>0</td>\n",
       "    </tr>\n",
       "    <tr>\n",
       "      <th>3</th>\n",
       "      <td>0</td>\n",
       "      <td>0</td>\n",
       "      <td>1</td>\n",
       "      <td>0</td>\n",
       "      <td>60</td>\n",
       "      <td>0</td>\n",
       "      <td>1</td>\n",
       "      <td>1</td>\n",
       "      <td>0</td>\n",
       "      <td>0</td>\n",
       "      <td>...</td>\n",
       "      <td>1</td>\n",
       "      <td>0</td>\n",
       "      <td>0</td>\n",
       "      <td>150</td>\n",
       "      <td>258</td>\n",
       "      <td>0</td>\n",
       "      <td>157</td>\n",
       "      <td>2.6</td>\n",
       "      <td>2.0</td>\n",
       "      <td>0</td>\n",
       "    </tr>\n",
       "    <tr>\n",
       "      <th>4</th>\n",
       "      <td>0</td>\n",
       "      <td>0</td>\n",
       "      <td>1</td>\n",
       "      <td>0</td>\n",
       "      <td>47</td>\n",
       "      <td>1</td>\n",
       "      <td>0</td>\n",
       "      <td>0</td>\n",
       "      <td>0</td>\n",
       "      <td>1</td>\n",
       "      <td>...</td>\n",
       "      <td>0</td>\n",
       "      <td>1</td>\n",
       "      <td>0</td>\n",
       "      <td>138</td>\n",
       "      <td>257</td>\n",
       "      <td>0</td>\n",
       "      <td>156</td>\n",
       "      <td>0.0</td>\n",
       "      <td>0.0</td>\n",
       "      <td>1</td>\n",
       "    </tr>\n",
       "  </tbody>\n",
       "</table>\n",
       "<p>5 rows × 28 columns</p>\n",
       "</div>"
      ],
      "text/plain": [
       "   age_mapped_toddler  age_mapped_child  age_mapped_adult  age_mapped_elder  \\\n",
       "0                   0                 0                 1                 0   \n",
       "1                   0                 0                 1                 0   \n",
       "2                   0                 0                 0                 1   \n",
       "3                   0                 0                 1                 0   \n",
       "4                   0                 0                 1                 0   \n",
       "\n",
       "   age  sex_male  sex_female  cp_typical_angina  cp_atypical_angina  \\\n",
       "0   50         0           1                  0                   0   \n",
       "1   44         1           0                  0                   1   \n",
       "2   70         1           0                  1                   0   \n",
       "3   60         0           1                  1                   0   \n",
       "4   47         1           0                  0                   0   \n",
       "\n",
       "   cp_non_anginal_pain  ...  thal_normal  thal_reversable_defect  \\\n",
       "0                    1  ...            0                       1   \n",
       "1                    0  ...            0                       1   \n",
       "2                    0  ...            0                       1   \n",
       "3                    0  ...            1                       0   \n",
       "4                    1  ...            0                       1   \n",
       "\n",
       "   thal_fixed_defect  trestbps  chol  restecg  thalach  oldpeak   ca  target  \n",
       "0                  0       120   219        1      158      1.6  0.0       1  \n",
       "1                  0       130   219        0      188      0.0  0.0       1  \n",
       "2                  0       130   322        0      109      2.4  3.0       0  \n",
       "3                  0       150   258        0      157      2.6  2.0       0  \n",
       "4                  0       138   257        0      156      0.0  0.0       1  \n",
       "\n",
       "[5 rows x 28 columns]"
      ]
     },
     "metadata": {},
     "output_type": "display_data"
    }
   ],
   "source": [
    "# Get serving function\n",
    "serving_fn = project.get_function(\"serving\")\n",
    "model_name = \"model\"\n",
    "\n",
    "# Get test set\n",
    "df = project.get_artifact(\"train_test_set\").to_dataitem().as_df()\n",
    "display(df.head())\n",
    "\n",
    "# Transform to list\n",
    "# Get training set as list\n",
    "data = df.drop(\"target\", axis=1).to_dict(orient=\"split\")[\"data\"]"
   ]
  },
  {
   "cell_type": "code",
   "execution_count": 29,
   "metadata": {},
   "outputs": [
    {
     "data": {
      "application/vnd.jupyter.widget-view+json": {
       "model_id": "c0da599a377a4a568710cfe2bbbdfcf6",
       "version_major": 2,
       "version_minor": 0
      },
      "text/plain": [
       "  0%|          | 0/12000 [00:00<?, ?it/s]"
      ]
     },
     "metadata": {},
     "output_type": "display_data"
    }
   ],
   "source": [
    "import json\n",
    "import logging\n",
    "from random import choice\n",
    "\n",
    "from tqdm.notebook import tqdm\n",
    "\n",
    "# Suppress print messages\n",
    "logging.getLogger(name=\"mlrun\").setLevel(logging.WARNING)\n",
    "\n",
    "# Simulate traffic using random elements from training set\n",
    "for i in tqdm(range(12_000)):\n",
    "    data_point = choice(data)\n",
    "    resp = serving_fn.invoke(\n",
    "        f\"v2/models/{model_name}/infer\", json.dumps({\"inputs\": [data_point]})\n",
    "    )\n",
    "    # print(resp)\n",
    "\n",
    "# Resume normal logging\n",
    "logging.getLogger(name=\"mlrun\").setLevel(logging.INFO)"
   ]
  },
  {
   "cell_type": "markdown",
   "metadata": {
    "jp-MarkdownHeadingCollapsed": true,
    "tags": []
   },
   "source": [
    "## 4. Re-Training Flow via CI/CD"
   ]
  },
  {
   "cell_type": "markdown",
   "metadata": {},
   "source": [
    "![](docs/gitops-flow.png)"
   ]
  },
  {
   "cell_type": "markdown",
   "metadata": {
    "jp-MarkdownHeadingCollapsed": true,
    "tags": []
   },
   "source": [
    "### Simulate Drift Event"
   ]
  },
  {
   "cell_type": "code",
   "execution_count": 36,
   "metadata": {},
   "outputs": [],
   "source": [
    "import json\n",
    "import v3io.dataplane"
   ]
  },
  {
   "cell_type": "code",
   "execution_count": 37,
   "metadata": {},
   "outputs": [],
   "source": [
    "v3io_client = v3io.dataplane.Client()"
   ]
  },
  {
   "cell_type": "code",
   "execution_count": 38,
   "metadata": {},
   "outputs": [],
   "source": [
    "drift_event = {'endpoint_id': '340c863d748d4bf8e040281b75bc6eb04209fd23', 'drift_status': 'POSSIBLE_DRIFT', 'drift_measure': 0.87}"
   ]
  },
  {
   "cell_type": "code",
   "execution_count": 39,
   "metadata": {},
   "outputs": [
    {
     "data": {
      "text/plain": [
       "<v3io.dataplane.response.Response at 0x7f58bc4db250>"
      ]
     },
     "execution_count": 39,
     "metadata": {},
     "output_type": "execute_result"
    }
   ],
   "source": [
    "v3io_client.stream.put_records(\n",
    "    container='users',\n",
    "    stream_path=f\"pipelines/{project.name}/model-endpoints/log_stream\",\n",
    "    records=[{'data': json.dumps(drift_event), 'shard_id': 0}]\n",
    ")"
   ]
  },
  {
   "cell_type": "code",
   "execution_count": null,
   "metadata": {},
   "outputs": [],
   "source": []
  }
 ],
 "metadata": {
  "kernelspec": {
   "display_name": "mlrun-extended",
   "language": "python",
   "name": "conda-env-mlrun-extended-py"
  },
  "language_info": {
   "codemirror_mode": {
    "name": "ipython",
    "version": 3
   },
   "file_extension": ".py",
   "mimetype": "text/x-python",
   "name": "python",
   "nbconvert_exporter": "python",
   "pygments_lexer": "ipython3",
   "version": "3.9.16"
  }
 },
 "nbformat": 4,
 "nbformat_minor": 4
}
